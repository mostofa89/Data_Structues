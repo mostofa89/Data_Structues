{
  "nbformat": 4,
  "nbformat_minor": 0,
  "metadata": {
    "colab": {
      "private_outputs": true,
      "provenance": [],
      "authorship_tag": "ABX9TyO/vKNdSZv9AfxcEqkRHiDH",
      "include_colab_link": true
    },
    "kernelspec": {
      "name": "python3",
      "display_name": "Python 3"
    },
    "language_info": {
      "name": "python"
    }
  },
  "cells": [
    {
      "cell_type": "markdown",
      "metadata": {
        "id": "view-in-github",
        "colab_type": "text"
      },
      "source": [
        "<a href=\"https://colab.research.google.com/github/mostofa89/Data_Structues/blob/main/Recursion_problem_solving.ipynb\" target=\"_parent\"><img src=\"https://colab.research.google.com/assets/colab-badge.svg\" alt=\"Open In Colab\"/></a>"
      ]
    },
    {
      "cell_type": "code",
      "execution_count": null,
      "metadata": {
        "id": "Pc-zJrRqeLpO"
      },
      "outputs": [],
      "source": [
        "def print_Nth_0(num):\n",
        "  print(num)\n",
        "  if num == 1:\n",
        "    return\n",
        "  print_Nth_0(num - 1)\n",
        "\n",
        "print_Nth_0(10)"
      ]
    },
    {
      "cell_type": "code",
      "source": [
        "# sum of n natural Number\n",
        "def Nth_sum(num):\n",
        "  if num == 0:\n",
        "    return 0\n",
        "\n",
        "  return num + Nth_sum(num - 1)\n",
        "\n",
        "\n",
        "print(Nth_sum(10))"
      ],
      "metadata": {
        "id": "Ww51hvZjxcYT"
      },
      "execution_count": null,
      "outputs": []
    },
    {
      "cell_type": "code",
      "source": [
        "# calculating factorial\n",
        "def factorial(num):\n",
        "  if num == 0:\n",
        "    return 1\n",
        "\n",
        "\n",
        "  return num * factorial(num - 1)\n",
        "\n",
        "print(factorial(7))"
      ],
      "metadata": {
        "id": "wx3VLejFzvKN"
      },
      "execution_count": null,
      "outputs": []
    },
    {
      "cell_type": "code",
      "source": [
        "def fibonacci(num):\n",
        "  if num == 0:\n",
        "    return num\n",
        "\n",
        "  if num == 1:\n",
        "    return num\n",
        "\n",
        "  return fibonacci(num - 1) + fibonacci(num - 2)\n",
        "\n",
        "print(fibonacci(10))"
      ],
      "metadata": {
        "id": "HAFY4EOW1uab"
      },
      "execution_count": null,
      "outputs": []
    },
    {
      "cell_type": "code",
      "source": [
        "def reverseprint(str1, idx):\n",
        "\n",
        "  if idx == 0:\n",
        "    return str1[idx]\n",
        "\n",
        "  return str1[idx] + reverseprint(str1, idx - 1)\n",
        "\n",
        "word = \"Hello\"\n",
        "print(reverseprint(word, len(word) - 1))"
      ],
      "metadata": {
        "id": "JY4XlRYaLKaN"
      },
      "execution_count": null,
      "outputs": []
    },
    {
      "cell_type": "code",
      "source": [
        "def ocurrence(word, ch, idxes, idx):\n",
        "\n",
        "  if idx == len(word):\n",
        "    return idxes\n",
        "\n",
        "  if word[idx] == ch:\n",
        "    if idxes[0] == -1:\n",
        "      idxes[0] = idx\n",
        "      idxes[1] = idx\n",
        "\n",
        "    else:\n",
        "      idxes[1] = idx\n",
        "\n",
        "  return ocurrence(word, ch, idxes, idx + 1)\n",
        "\n",
        "word = \"Hello\"\n",
        "list1 = [-1, -1]\n",
        "print(ocurrence(word, \"o\", list1, 0))"
      ],
      "metadata": {
        "id": "Z_xCg35LkyRY"
      },
      "execution_count": null,
      "outputs": []
    },
    {
      "cell_type": "code",
      "source": [
        "def isSorted(array, idx):\n",
        "  if idx == len(array) -1:\n",
        "    return True\n",
        "\n",
        "  else:\n",
        "    if array[idx] > array[idx + 1]:\n",
        "      return False\n",
        "\n",
        "    return isSorted(array, idx + 1)\n",
        "\n",
        "\n",
        "array = [1, 2, 3, 4, 4, 5]\n",
        "print(isSorted(array, 0))"
      ],
      "metadata": {
        "id": "oYztyDI_rFSY"
      },
      "execution_count": null,
      "outputs": []
    },
    {
      "cell_type": "code",
      "source": [
        "def remove_duplicate(str1, idx, str2):\n",
        "  if idx == len(str1):\n",
        "    return str2\n",
        "\n",
        "  if str1[idx] not in str2:\n",
        "    str2 += str1[idx]\n",
        "\n",
        "  return remove_duplicate(str1, idx + 1, str2)\n",
        "\n",
        "\n",
        "print(remove_duplicate(\"aabbaccdxyz\", 0, \"\"))"
      ],
      "metadata": {
        "id": "ZXZKcPFAx2rJ"
      },
      "execution_count": null,
      "outputs": []
    },
    {
      "cell_type": "code",
      "source": [
        "def printArray(array, i):\n",
        "  if i == len(array) - 1:\n",
        "    print(array[i])\n",
        "    return\n",
        "\n",
        "  print(array[i], end = \", \")\n",
        "  printArray(array, i + 1)\n",
        "\n",
        "\n",
        "printArray([10, 20, 30, 40, 50], 0)"
      ],
      "metadata": {
        "id": "rxPyO8HzYhlB"
      },
      "execution_count": null,
      "outputs": []
    },
    {
      "cell_type": "code",
      "source": [
        "def printArray(array, i):\n",
        "  if i == len(array) - 1:\n",
        "    print(array[i], end = \", \")\n",
        "    return\n",
        "\n",
        "\n",
        "  printArray(array, i + 1)\n",
        "  if i == 0:\n",
        "    print(array[i])\n",
        "  else:\n",
        "    print(array[i], end = \", \")\n",
        "\n",
        "\n",
        "printArray([10, 20, 30, 40, 50], 0)"
      ],
      "metadata": {
        "id": "x_N6mGDXZNog"
      },
      "execution_count": null,
      "outputs": []
    },
    {
      "cell_type": "code",
      "source": [
        "def calcSum(array, i):\n",
        "  if len(array) == i:\n",
        "    return 0\n",
        "\n",
        "\n",
        "  return array[i] + calcSum(array, i + 1)\n",
        "\n",
        "\n",
        "\n",
        "print(calcSum([10, 20, 30, 40, 50], 0))"
      ],
      "metadata": {
        "id": "UPC7sTf4hh-w"
      },
      "execution_count": null,
      "outputs": []
    },
    {
      "cell_type": "code",
      "source": [
        "def calcSum(array, i):\n",
        "  if len(array) > i:\n",
        "    return array[i] + calcSum(array, i + 1)\n",
        "\n",
        "  else:\n",
        "    return 0\n",
        "\n",
        "\n",
        "print(calcSum([10, 20, 30, 40, 50], 0))"
      ],
      "metadata": {
        "id": "Xic28rGMgJ8W"
      },
      "execution_count": null,
      "outputs": []
    },
    {
      "cell_type": "code",
      "source": [
        "def powcalc(num1, num2):\n",
        "  if num2 == 0:\n",
        "    return 1\n",
        "\n",
        "  return num1 * powcalc(num1, num2 - 1)\n",
        "\n",
        "\n",
        "print(powcalc(5, 3))"
      ],
      "metadata": {
        "id": "dNKER6PklT-1"
      },
      "execution_count": null,
      "outputs": []
    },
    {
      "cell_type": "code",
      "source": [
        "def binconversion(num):\n",
        "  if num == 0:\n",
        "    return \"\"\n",
        "\n",
        "  return binconversion(num // 2) + str(num % 2)\n",
        "\n",
        "\n",
        "print(binconversion(10))"
      ],
      "metadata": {
        "id": "iMcfzteil-Uv"
      },
      "execution_count": null,
      "outputs": []
    },
    {
      "cell_type": "code",
      "source": [
        "def binarySearch(array, val, low, high):\n",
        "  mid = (low + high) // 2\n",
        "  if array[mid] == val:\n",
        "    return mid\n",
        "\n",
        "  elif array[mid] < val:\n",
        "    return binarySearch(array, val, mid + 1, high)\n",
        "\n",
        "  elif array[mid] > val:\n",
        "    return binarySearch(array, val, low, mid - 1)\n",
        "\n",
        "\n",
        "\n",
        "array = [10, 20, 30, 40, 50, 60]\n",
        "print(binarySearch(array, 60, 0, len(array) - 1))"
      ],
      "metadata": {
        "id": "fg8Q57wVykf8"
      },
      "execution_count": null,
      "outputs": []
    },
    {
      "cell_type": "code",
      "source": [
        "def count7(num):\n",
        "  if num == 0:\n",
        "    return 0\n",
        "\n",
        "  else:\n",
        "    if num % 10 == 7:\n",
        "      return 1 + count7(num // 10)\n",
        "\n",
        "    return count7(num // 10)\n",
        "\n",
        "\n",
        "print(count7(717))"
      ],
      "metadata": {
        "id": "yZKjVBpsiEa4"
      },
      "execution_count": null,
      "outputs": []
    },
    {
      "cell_type": "code",
      "source": [
        "def countX(str1,):\n",
        "  if len(str1) == 0:\n",
        "    return 0\n",
        "\n",
        "  if str1[0] == \"x\":\n",
        "    return 1 + countX(str1[1 : len(str1)])\n",
        "\n",
        "\n",
        "  return countX(str1[1 : len(str1)])\n",
        "\n",
        "\n",
        "print(countX(\"xhixhix\"))"
      ],
      "metadata": {
        "id": "rV24LAUHjwu1"
      },
      "execution_count": null,
      "outputs": []
    },
    {
      "cell_type": "code",
      "source": [
        "def changePi(str1, i = 0):\n",
        "  if len(str1) < 2:\n",
        "    return str1\n",
        "\n",
        "  if str1[0 : 2] == \"pi\":\n",
        "    return \"3.14\" + changePi(str1[2 : len(str1)])\n",
        "\n",
        "  return changePi(str1[2 : len(str1)])\n",
        "\n",
        "\n",
        "print(changePi(\"pipi\"))"
      ],
      "metadata": {
        "id": "xcxK5hTvl4Xh"
      },
      "execution_count": null,
      "outputs": []
    },
    {
      "cell_type": "code",
      "source": [
        "def array220(nums, idx):\n",
        "  if idx >= len(nums) - 1:\n",
        "    return False\n",
        "\n",
        "  if nums[idx] * 10 == nums[idx + 1]:\n",
        "    return True\n",
        "\n",
        "  return array220(nums, idx + 1)\n",
        "\n",
        "\n",
        "print(array220([1, 2, 20], 0))\n",
        "print(array220([3, 30], 0))\n",
        "print(array220([3, 0, 30], 0))"
      ],
      "metadata": {
        "id": "szdK0cFXc1Hc"
      },
      "execution_count": null,
      "outputs": []
    },
    {
      "cell_type": "code",
      "source": [
        "def array11(array, idx):\n",
        "  if idx == len(array):\n",
        "    return 0\n",
        "\n",
        "  if array[idx] == 11:\n",
        "    return 1 + array11(array, idx + 1)\n",
        "\n",
        "  else:\n",
        "    return array11(array, idx + 1)\n",
        "\n",
        "\n",
        "print(array11([11, 11], 0))"
      ],
      "metadata": {
        "id": "EnQYACGfogi1"
      },
      "execution_count": null,
      "outputs": []
    },
    {
      "cell_type": "code",
      "source": [
        "def pairStar(word):\n",
        "  if len(word) < 2:\n",
        "    return word\n",
        "\n",
        "  if word[0] == word[1]:\n",
        "    return word[0] + \"*\" + pairStar(word[1: len(word)])\n",
        "\n",
        "  return word[0] + pairStar(word[1 : len(word)])\n",
        "\n",
        "\n",
        "print(pairStar(\"xxyy\"))"
      ],
      "metadata": {
        "id": "1KPmYydQsHlu"
      },
      "execution_count": null,
      "outputs": []
    },
    {
      "cell_type": "code",
      "source": [
        "def countAbc(str1):\n",
        "  if len(str1) < 3:\n",
        "    return 0\n",
        "\n",
        "  if str1[0 : 3] == \"abc\" or str1[0 : 3] == \"aba\":\n",
        "    return 1 + countAbc(str1[3 : len(str1)])\n",
        "\n",
        "  return countAbc(str1[1 : len(str1)])\n",
        "\n",
        "\n",
        "print(countAbc(\"abcxxabc\"))"
      ],
      "metadata": {
        "id": "aCaC_y_yttYe"
      },
      "execution_count": null,
      "outputs": []
    },
    {
      "cell_type": "code",
      "source": [
        "def countHi2(str1):\n",
        "  if len(str1) < 2:\n",
        "    return 0\n",
        "\n",
        "  if str1[0 : 3] == \"xhi\":\n",
        "    return countHi2(str1[3 : len(str1)])\n",
        "\n",
        "  elif str1[0 : 2] == \"hi\":\n",
        "    return 1 + countHi2(str1[2 : len(str1)])\n",
        "\n",
        "  return countHi2(str1[1 : len(str1)])\n",
        "\n",
        "\n",
        "print(countHi2(\"ahibhi\"))"
      ],
      "metadata": {
        "id": "e2qyH_7qT9JJ"
      },
      "execution_count": null,
      "outputs": []
    },
    {
      "cell_type": "code",
      "source": [
        "def strCount(word, str1):\n",
        "  if len(word) < len(str1):\n",
        "    return 0\n",
        "\n",
        "  if word[0 : len(str1)] == str1:\n",
        "    return 1 + strCount(word[len(str1) : len(word)], str1)\n",
        "\n",
        "  return strCount(word[1 : len(word)], str1)\n",
        "\n",
        "\n",
        "print(strCount(\"catcowcat\", \"cat\"))"
      ],
      "metadata": {
        "id": "9Apj6thuWR8l"
      },
      "execution_count": null,
      "outputs": []
    },
    {
      "cell_type": "code",
      "source": [
        "def bunnyEars(num):\n",
        "  if num == 0:\n",
        "    return 0\n",
        "\n",
        "  return 2 + bunnyEars(num - 1)\n",
        "\n",
        "\n",
        "print(bunnyEars(4))"
      ],
      "metadata": {
        "id": "z60IHmMM5yMI"
      },
      "execution_count": null,
      "outputs": []
    },
    {
      "cell_type": "code",
      "source": [
        "def noX(str1):\n",
        "  if str1 == \"\":\n",
        "    return str1\n",
        "\n",
        "  if str1[0] == \"x\":\n",
        "    return noX(str1[1 : len(str1)])\n",
        "\n",
        "  return str1[0] + noX(str1[1 : len(str1)])\n",
        "\n",
        "\n",
        "print(noX(\"xaxbx\"))"
      ],
      "metadata": {
        "id": "ap1Wi6xuFszb"
      },
      "execution_count": null,
      "outputs": []
    },
    {
      "cell_type": "code",
      "source": [
        "def parenBit(str1):\n",
        "  if str1 == \"\":\n",
        "    return \"\"\n",
        "\n",
        "  if str1[0] == \"(\":\n",
        "    if str1[len(str1) - 1] != \")\":\n",
        "      return parenBit(str1[0 : len(str1) - 1])\n",
        "\n",
        "    else:\n",
        "      return str1\n",
        "\n",
        "  return parenBit(str1[1 : len(str1)])\n",
        "\n",
        "\n",
        "print(parenBit(\"xyz(abc)123\"))\n",
        "print(parenBit(\"x(hello)\"))\n",
        "print(parenBit(\"xwerty\"))"
      ],
      "metadata": {
        "id": "yS2sfFlOI4dq"
      },
      "execution_count": null,
      "outputs": []
    },
    {
      "cell_type": "code",
      "source": [
        "def strCopies(word, str1, times):\n",
        "\n",
        "  if len(word) < len(str1):\n",
        "    if times <= 0:\n",
        "      return True\n",
        "\n",
        "    return False\n",
        "\n",
        "  if word[0 : len(str1)] == str1:\n",
        "    return strCopies(word[len(str1) : len(word)], str1, times - 1)\n",
        "\n",
        "  return strCopies(word[1 : len(word)], str1, times)\n",
        "\n",
        "\n",
        "print(strCopies(\"catcowcat\", \"cat\", 2))\n",
        "print(strCopies(\"catcowcat\", \"cow\", 2))\n",
        "strCopies(\"catcowcat\", \"cow\", 1)"
      ],
      "metadata": {
        "id": "M3CUQ-oEYYYf"
      },
      "execution_count": null,
      "outputs": []
    },
    {
      "cell_type": "code",
      "source": [
        "def changeXY(str1):\n",
        "  if len(str1) == 0:\n",
        "    return \"\"\n",
        "\n",
        "  if str1[0] == \"x\":\n",
        "    return \"y\" + changeXY(str1[1: len(str1)])\n",
        "\n",
        "  return str1[0] + changeXY(str1[1: len(str1)])\n",
        "\n",
        "\n",
        "print(changeXY(\"codex\"))\n",
        "print(changeXY(\"xxhixx\"))"
      ],
      "metadata": {
        "id": "0geam9MGLDWt"
      },
      "execution_count": null,
      "outputs": []
    },
    {
      "cell_type": "code",
      "source": [
        "def allStar(str1):\n",
        "  if len(str1) == 1:\n",
        "    return str1\n",
        "\n",
        "  return str1[0] + \"*\" + allStar(str1[1 : len(str1)])\n",
        "\n",
        "\n",
        "print(allStar(\"hello\"))\n",
        "print(allStar(\"abc\"))"
      ],
      "metadata": {
        "id": "8iH-r5YiNna7"
      },
      "execution_count": null,
      "outputs": []
    },
    {
      "cell_type": "code",
      "source": [
        "def stringClean(str1):\n",
        "  if len(str1) == 1:\n",
        "    return str1\n",
        "\n",
        "  if str1[0] == str1[1]:\n",
        "    return stringClean(str1[1 : len(str1)])\n",
        "\n",
        "  return str1[0] + stringClean(str1[1 : len(str1)])\n",
        "\n",
        "\n",
        "print(stringClean(\"aaabbbccca\"))"
      ],
      "metadata": {
        "id": "k4l6v6z3VZGG"
      },
      "execution_count": null,
      "outputs": []
    },
    {
      "cell_type": "code",
      "source": [
        "def strDist(word, str1):\n",
        "  if word == \"\":\n",
        "    return 0\n",
        "\n",
        "  if word[len(word) - len(str1) : len(word)] == str1:\n",
        "    if word[0 : 3] == str1:\n",
        "      return len(word)\n",
        "\n",
        "  if word[0 : 3] == str1:\n",
        "    return strDist(word[0 : len(word) - 1], str1)\n",
        "\n",
        "  return strDist(word[1 : len(word)], str1)\n",
        "\n",
        "\n",
        "print(strDist(\"catcowcat\", \"cow\"))\n",
        "print(strDist(\"catcowcat\", \"cat\"))\n",
        "print(strDist(\"\", \"cat\"))\n",
        "print(strDist(\"ccccccatcowcatxxcatccccc\", \"cat\"))"
      ],
      "metadata": {
        "id": "HvheCpAZXt38"
      },
      "execution_count": null,
      "outputs": []
    },
    {
      "cell_type": "code",
      "source": [
        "def nestParen(s):\n",
        "  if s == \"\":\n",
        "    return True\n",
        "\n",
        "  if s[0] == \"(\" and s[len(s) - 1] == \")\":\n",
        "    return nestParen(s[1 : len(s) - 1])\n",
        "\n",
        "  return False\n",
        "\n",
        "\n",
        "print(nestParen(\"(((x))\"))\n",
        "print(nestParen(\"((()))\"))\n",
        "print(nestParen((\"(()\")))"
      ],
      "metadata": {
        "id": "gQ0O01-A7jSu"
      },
      "execution_count": null,
      "outputs": []
    },
    {
      "cell_type": "code",
      "source": [
        "def groupSum(start, array, target):\n",
        "  if target == 0:\n",
        "    return True\n",
        "\n",
        "  if start >= len(array):\n",
        "    return False\n",
        "\n",
        "  return groupSum(start + 1, array, target - array[start]) or groupSum(start + 1, array, target)\n",
        "\n",
        "\n",
        "print(groupSum(0, [2, 4, 8], 10))\n",
        "print(groupSum(0, [2, 4, 8], 14))"
      ],
      "metadata": {
        "id": "5eq9youngar1"
      },
      "execution_count": null,
      "outputs": []
    },
    {
      "cell_type": "code",
      "source": [
        "def split53(nums):\n",
        "  def helper(idx, sum1, sum2):\n",
        "    if idx == len(nums):\n",
        "      return sum1 == sum2\n",
        "\n",
        "    return helper(idx + 1, sum1 + nums[idx], sum2) or  helper(idx + 1, sum1, sum2 + nums[idx])\n",
        "\n",
        "\n",
        "  return helper(0, 0, 0)\n",
        "\n",
        "\n",
        "print(split53([1, 1, 1]))\n",
        "print(split53([2, 4, 2]))"
      ],
      "metadata": {
        "id": "BYrb1l8wpIyU"
      },
      "execution_count": null,
      "outputs": []
    },
    {
      "cell_type": "code",
      "source": [
        "def splitOdd10(nums):\n",
        "    def helper(index, sum1, sum2):\n",
        "        if index == len(nums):\n",
        "            return sum1 % 10 == 0 and sum2 % 2 == 1\n",
        "\n",
        "        return helper(index + 1, sum1 + nums[index], sum2) or helper(index + 1, sum1, sum2 + nums[index])\n",
        "\n",
        "    return helper(0, 0, 0)\n",
        "\n",
        "# Example usage:\n",
        "print(splitOdd10([5, 5, 5]))    # Output: True\n",
        "print(splitOdd10([5, 5, 6]))    # Output: False\n",
        "print(splitOdd10([5, 5, 6, 1])) # Output: True"
      ],
      "metadata": {
        "id": "Kdv2of00_rLg"
      },
      "execution_count": null,
      "outputs": []
    },
    {
      "cell_type": "code",
      "source": [
        "def split53(nums):\n",
        "    def helper(index, sum1, sum2):\n",
        "        if index == len(nums):\n",
        "            return sum1 == sum2\n",
        "\n",
        "        num = nums[index]\n",
        "        if num % 5 == 0:\n",
        "            return helper(index + 1, sum1 + num, sum2)\n",
        "\n",
        "        elif num % 3 == 0:\n",
        "            return helper(index + 1, sum1, sum2 + num)\n",
        "\n",
        "        else:\n",
        "            return helper(index + 1, sum1 + num, sum2) or helper(index + 1, sum1, sum2 + num)\n",
        "\n",
        "    return helper(0, 0, 0)\n",
        "\n",
        "# Example usage:\n",
        "print(split53([1, 1]))        # Output: True\n",
        "print(split53([1, 1, 1]))     # Output: False\n",
        "print(split53([2, 4, 2]))     # Output: True"
      ],
      "metadata": {
        "id": "cu-6RoqZ_tmb"
      },
      "execution_count": null,
      "outputs": []
    },
    {
      "cell_type": "code",
      "source": [
        "def groupSum5(start, nums, target):\n",
        "  if target == 0:\n",
        "    return True\n",
        "\n",
        "  if start >= len(nums):\n",
        "    return False\n",
        "\n",
        "  if nums[start] % 5 == 0:\n",
        "    if start + 1 < len(nums) and nums[start + 1] == 1:\n",
        "      return groupSum5(start + 2, nums, target - nums[start])\n",
        "    else:\n",
        "      return groupSum5(start + 1, nums, target - nums[start])\n",
        "\n",
        "  return groupSum5(start + 1, nums, target - nums[start]) or groupSum5(start + 1, nums, target)\n",
        "\n",
        "# Example usage:\n",
        "print(groupSum5(0, [2, 5, 10, 4], 19))  # Output: True\n",
        "print(groupSum5(0, [2, 5, 10, 4], 17))  # Output: True\n",
        "print(groupSum5(0, [2, 5, 10, 4], 12))  # Output: False\n"
      ],
      "metadata": {
        "id": "04-QlE0DAA9J"
      },
      "execution_count": null,
      "outputs": []
    },
    {
      "cell_type": "code",
      "source": [],
      "metadata": {
        "id": "zTMvJ8pKrVG8"
      },
      "execution_count": null,
      "outputs": []
    }
  ]
}