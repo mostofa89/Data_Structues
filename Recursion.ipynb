{
  "nbformat": 4,
  "nbformat_minor": 0,
  "metadata": {
    "colab": {
      "provenance": [],
      "authorship_tag": "ABX9TyMs8+uCT6b9TxEIifVuntey",
      "include_colab_link": true
    },
    "kernelspec": {
      "name": "python3",
      "display_name": "Python 3"
    },
    "language_info": {
      "name": "python"
    }
  },
  "cells": [
    {
      "cell_type": "markdown",
      "metadata": {
        "id": "view-in-github",
        "colab_type": "text"
      },
      "source": [
        "<a href=\"https://colab.research.google.com/github/mostofa89/Data_Structues/blob/main/Recursion.ipynb\" target=\"_parent\"><img src=\"https://colab.research.google.com/assets/colab-badge.svg\" alt=\"Open In Colab\"/></a>"
      ]
    },
    {
      "cell_type": "code",
      "source": [
        "# Recursive Sum\n",
        "def nth_Sum(num):\n",
        "  if num > 0:\n",
        "    return num + nth_Sum(num - 1)\n",
        "\n",
        "  else:\n",
        "    return 0\n",
        "\n",
        "nth_Sum(6)"
      ],
      "metadata": {
        "colab": {
          "base_uri": "https://localhost:8080/"
        },
        "id": "vgo_GF_MCcJ1",
        "outputId": "ca01d1be-b061-4450-9aa2-bd97a088e388"
      },
      "execution_count": null,
      "outputs": [
        {
          "output_type": "execute_result",
          "data": {
            "text/plain": [
              "21"
            ]
          },
          "metadata": {},
          "execution_count": 2
        }
      ]
    },
    {
      "cell_type": "code",
      "source": [
        "# Recursive Sum\n",
        "def sum_nth(n):\n",
        "  if n == 0:\n",
        "    return 0\n",
        "\n",
        "  return  n + sum_nth(n - 1)\n",
        "\n",
        "\n",
        "print(sum_nth(10))"
      ],
      "metadata": {
        "colab": {
          "base_uri": "https://localhost:8080/"
        },
        "id": "6xtQJG8ickw2",
        "outputId": "d285dd33-ac0d-4d48-e48c-3ef0e98e32e9"
      },
      "execution_count": null,
      "outputs": [
        {
          "output_type": "stream",
          "name": "stdout",
          "text": [
            "55\n"
          ]
        }
      ]
    },
    {
      "cell_type": "code",
      "source": [
        "#factorial\n",
        "def factorial(num):\n",
        "  if num > 0:\n",
        "    return num * factorial(num - 1)\n",
        "\n",
        "  else:\n",
        "    return 1\n",
        "\n",
        "num = 6\n",
        "print(factorial(num))"
      ],
      "metadata": {
        "colab": {
          "base_uri": "https://localhost:8080/"
        },
        "id": "vyAA95qAC9AN",
        "outputId": "7a54c3e9-4422-4e31-8739-a824ce1a173e"
      },
      "execution_count": null,
      "outputs": [
        {
          "output_type": "stream",
          "name": "stdout",
          "text": [
            "720\n"
          ]
        }
      ]
    },
    {
      "cell_type": "code",
      "source": [
        "# another aproch\n",
        "def factorial(num):\n",
        "  if num == 0:\n",
        "    return 1\n",
        "\n",
        "  return num * factorial(num - 1)\n",
        "\n",
        "num = 5\n",
        "print(factorial(num))"
      ],
      "metadata": {
        "colab": {
          "base_uri": "https://localhost:8080/"
        },
        "id": "UKgkNMePbjn-",
        "outputId": "64aff987-e6c1-41ee-838c-c110d11a0202"
      },
      "execution_count": null,
      "outputs": [
        {
          "output_type": "stream",
          "name": "stdout",
          "text": [
            "120\n"
          ]
        }
      ]
    },
    {
      "cell_type": "code",
      "source": [
        "# power\n",
        "def recursive_power(num, pow):\n",
        "  if pow == 0:\n",
        "    return 1\n",
        "\n",
        "  return num * recursive_power(num, pow - 1)\n",
        "\n",
        "print(recursive_power(5, 0))"
      ],
      "metadata": {
        "colab": {
          "base_uri": "https://localhost:8080/"
        },
        "id": "EilIupc2dKFT",
        "outputId": "ade03fec-7f56-4938-bc6e-b765930428da"
      },
      "execution_count": null,
      "outputs": [
        {
          "output_type": "stream",
          "name": "stdout",
          "text": [
            "1\n"
          ]
        }
      ]
    },
    {
      "cell_type": "code",
      "source": [
        "def binaryConversion(num):\n",
        "  if num == 0:\n",
        "    return \"\"\n",
        "\n",
        "  return f\"{binaryConversion(num // 2)}{num % 2}\"\n",
        "\n",
        "\n",
        "print(binaryConversion(4))"
      ],
      "metadata": {
        "colab": {
          "base_uri": "https://localhost:8080/"
        },
        "id": "oSBH99MOfUZM",
        "outputId": "4588ec24-5a34-47f1-8c06-26896fb79fbd"
      },
      "execution_count": null,
      "outputs": [
        {
          "output_type": "stream",
          "name": "stdout",
          "text": [
            "100\n"
          ]
        }
      ]
    },
    {
      "cell_type": "code",
      "source": [
        "def binary(num):\n",
        "  if num > 0:\n",
        "    return f\"{binary(num // 2)}{num % 2}\"\n",
        "\n",
        "  else:\n",
        "    return \"\"\n",
        "\n",
        "print(binary(10))"
      ],
      "metadata": {
        "colab": {
          "base_uri": "https://localhost:8080/"
        },
        "id": "AwarH1jzqdXO",
        "outputId": "bfc84f42-5389-4ef9-98dc-dfce0217e4f7"
      },
      "execution_count": null,
      "outputs": [
        {
          "output_type": "stream",
          "name": "stdout",
          "text": [
            "1010\n"
          ]
        }
      ]
    },
    {
      "cell_type": "code",
      "source": [
        "# fibonacci\n",
        "def fibonacci(n):\n",
        "  if n == 1:\n",
        "    return 0\n",
        "\n",
        "  elif n == 2:\n",
        "    return 1\n",
        "\n",
        "  return fibonacci(n - 1) + fibonacci(n - 2)\n",
        "\n",
        "fibonacci(10)"
      ],
      "metadata": {
        "colab": {
          "base_uri": "https://localhost:8080/"
        },
        "id": "qJmZCqSRG_cS",
        "outputId": "1b1de34c-a61c-4bef-8525-76e04fea6605"
      },
      "execution_count": null,
      "outputs": [
        {
          "output_type": "execute_result",
          "data": {
            "text/plain": [
              "34"
            ]
          },
          "metadata": {},
          "execution_count": 48
        }
      ]
    },
    {
      "cell_type": "code",
      "source": [
        "import numpy as np\n",
        "def fibo(n):\n",
        "  fibo_array = np.array([0] * (n + 1))\n",
        "  if n < 2:\n",
        "    return n\n",
        "\n",
        "  if fibo_array[n] != 0:\n",
        "    return fibo_array[n]\n",
        "\n",
        "\n",
        "  else:\n",
        "    fibo_array[n] = fibo(n -1) + fibo(n - 2)\n",
        "    return fibo_array[n]\n",
        "\n",
        "\n",
        "fibo(10)"
      ],
      "metadata": {
        "colab": {
          "base_uri": "https://localhost:8080/"
        },
        "id": "-KSU_xX_4v26",
        "outputId": "4411a58f-aafc-46af-c4f2-ba3962da4fc0"
      },
      "execution_count": null,
      "outputs": [
        {
          "output_type": "execute_result",
          "data": {
            "text/plain": [
              "55"
            ]
          },
          "metadata": {},
          "execution_count": 2
        }
      ]
    },
    {
      "cell_type": "code",
      "source": [
        "# fibonacci\n",
        "def fibonacci(n):\n",
        "  if n == 1:\n",
        "    return 0\n",
        "\n",
        "  elif n == 2:\n",
        "    return 1\n",
        "\n",
        "  return fibonacci(n - 1) + fibonacci(n - 2)\n",
        "\n",
        "fibonacci(10)"
      ],
      "metadata": {
        "colab": {
          "base_uri": "https://localhost:8080/"
        },
        "outputId": "faa111ec-fe0e-45d6-e7c0-63661db1c489",
        "id": "Xb0myx4P5NoJ"
      },
      "execution_count": null,
      "outputs": [
        {
          "output_type": "execute_result",
          "data": {
            "text/plain": [
              "34"
            ]
          },
          "metadata": {},
          "execution_count": 58
        }
      ]
    },
    {
      "cell_type": "code",
      "source": [
        "def bin_num(n):\n",
        "  if n > 0:\n",
        "    d = n % 2\n",
        "    h = str(d)\n",
        "    return bin_num(n // 2) + h\n",
        "\n",
        "  if n == 0:\n",
        "    return \"\"\n",
        "\n",
        "bin_num(10)"
      ],
      "metadata": {
        "colab": {
          "base_uri": "https://localhost:8080/",
          "height": 36
        },
        "id": "0k65rd-Fz8fA",
        "outputId": "e0c6c179-3262-477e-9dba-de2fea16ebee"
      },
      "execution_count": null,
      "outputs": [
        {
          "output_type": "execute_result",
          "data": {
            "text/plain": [
              "'1010'"
            ],
            "application/vnd.google.colaboratory.intrinsic+json": {
              "type": "string"
            }
          },
          "metadata": {},
          "execution_count": 4
        }
      ]
    },
    {
      "cell_type": "code",
      "source": [
        "import numpy as np\n",
        "\n",
        "def max_num(array, i = 0):\n",
        "  if i == len(array):\n",
        "    return array[0]\n",
        "  else:\n",
        "    if array[i] > array[0]:\n",
        "      array[0] = array[i]\n",
        "    return max_num(array, i + 1)\n",
        "\n",
        "\n",
        "\n",
        "array = np.array([10, 20, 30, 500, 40, 50, 60, 70, 80, 90, 1000])\n",
        "max_num(array)"
      ],
      "metadata": {
        "colab": {
          "base_uri": "https://localhost:8080/"
        },
        "id": "x_MFSbca7uaq",
        "outputId": "fbe571e9-6bd3-4080-ca59-b2950a7e51fc"
      },
      "execution_count": null,
      "outputs": [
        {
          "output_type": "execute_result",
          "data": {
            "text/plain": [
              "1000"
            ]
          },
          "metadata": {},
          "execution_count": 41
        }
      ]
    },
    {
      "cell_type": "code",
      "source": [
        "counter = 1\n",
        "for i in range(5, 0, -1):\n",
        "  for j in range(i, 0, -1):\n",
        "    print((i - j + 1), end = \" \")\n",
        "\n",
        "  print()"
      ],
      "metadata": {
        "colab": {
          "base_uri": "https://localhost:8080/"
        },
        "id": "JSr6PTyRZMjx",
        "outputId": "fe76168c-3e95-4e88-f094-25bce9a7fa3e"
      },
      "execution_count": null,
      "outputs": [
        {
          "output_type": "stream",
          "name": "stdout",
          "text": [
            "1 2 3 4 5 \n",
            "1 2 3 4 \n",
            "1 2 3 \n",
            "1 2 \n",
            "1 \n"
          ]
        }
      ]
    },
    {
      "cell_type": "code",
      "source": [
        "def fibo(n):\n",
        "  if n < 2:\n",
        "    return n\n",
        "\n",
        "  return fibo(n - 1) + fibo(n - 2)\n",
        "\n",
        "\n",
        "fibo(10)"
      ],
      "metadata": {
        "colab": {
          "base_uri": "https://localhost:8080/"
        },
        "id": "LikOXkLk5aSX",
        "outputId": "e8432fc0-ca4f-4eda-8648-d50fffec5030"
      },
      "execution_count": null,
      "outputs": [
        {
          "output_type": "execute_result",
          "data": {
            "text/plain": [
              "55"
            ]
          },
          "metadata": {},
          "execution_count": 42
        }
      ]
    },
    {
      "cell_type": "code",
      "source": [
        "#binary search\n",
        "import numpy as np\n",
        "def binary_search(array, start, end, value):\n",
        "  if end >= start:\n",
        "    mid = (start + end) // 2\n",
        "    if array[mid] == value:\n",
        "      return mid\n",
        "\n",
        "    elif array[mid] > value:\n",
        "      return binary_search(array, start, mid - 1, value)\n",
        "\n",
        "    else:\n",
        "      return binary_search(array, mid + 1, end, value)\n",
        "\n",
        "  else:\n",
        "    return - 1\n",
        "\n",
        "array = np.array([10, 20, 30, 40, 50, 60, 70, 80, 90, 100])\n",
        "print(binary_search(array, 0, len(array) - 1, 100))"
      ],
      "metadata": {
        "colab": {
          "base_uri": "https://localhost:8080/"
        },
        "id": "qBD0rvMewWeJ",
        "outputId": "3e43b405-e509-46cc-bec0-a821d1b21397"
      },
      "execution_count": null,
      "outputs": [
        {
          "output_type": "stream",
          "name": "stdout",
          "text": [
            "9\n"
          ]
        }
      ]
    },
    {
      "cell_type": "code",
      "source": [
        "#array summition\n",
        "import numpy as np\n",
        "def summition_array(i, array):\n",
        "  if i < len(array):\n",
        "    return array[i] + summition_array(i + 1, array)\n",
        "\n",
        "  else:\n",
        "    return 0\n",
        "\n",
        "array = np.array([10, 34, -9, 1])\n",
        "print(summition_array(0, array))"
      ],
      "metadata": {
        "colab": {
          "base_uri": "https://localhost:8080/"
        },
        "id": "F2ssZnoc4BPG",
        "outputId": "e715653b-ea27-45b4-fc8c-1df62429f274"
      },
      "execution_count": null,
      "outputs": [
        {
          "output_type": "stream",
          "name": "stdout",
          "text": [
            "36\n"
          ]
        }
      ]
    },
    {
      "cell_type": "code",
      "source": [
        "import numpy as np\n",
        "def binary_search(arr, low, high, x):\n",
        "  if high >= low:\n",
        "    mid = (high + low) // 2\n",
        "\n",
        "    if arr[mid] == x:\n",
        "      return mid\n",
        "\n",
        "    elif arr[mid] > x:\n",
        "      return binary_search(arr, low, mid - 1, x)\n",
        "\n",
        "    else:\n",
        "      return binary_search(arr, mid + 1, high, x)\n",
        "\n",
        "  else:\n",
        "    return -1\n",
        "\n",
        "# Test array\n",
        "arr = np.array([ 2, 3, 4, 10, 40, 50, 60, 70, 80, 90, 100 ])\n",
        "x = 100\n",
        "\n",
        "# Function call\n",
        "result = binary_search(arr, 0, len(arr)-1, x)\n",
        "print(result)"
      ],
      "metadata": {
        "colab": {
          "base_uri": "https://localhost:8080/"
        },
        "id": "yxpWviZezQyg",
        "outputId": "18be7866-2b42-4800-cb9b-96a20c3c33f6"
      },
      "execution_count": 3,
      "outputs": [
        {
          "output_type": "stream",
          "name": "stdout",
          "text": [
            "10\n"
          ]
        }
      ]
    },
    {
      "cell_type": "code",
      "source": [
        "def methodA(n):\n",
        "  print(n + 1)\n",
        "  methodB(n + 1)\n",
        "  print(n + 1)\n",
        "  return n + 1\n",
        "\n",
        "\n",
        "def methodB(n):\n",
        "  print(n + 1)\n",
        "  methodC(n + 1)\n",
        "  print(n + 1)\n",
        "  return n + 1\n",
        "\n",
        "\n",
        "def methodC(n):\n",
        "  print(n + 1)\n",
        "  if n != 9:\n",
        "    methodC(n + 1)\n",
        "  print(n + 1)\n",
        "  return n + 1\n",
        "\n",
        "\n",
        "methodA(5)"
      ],
      "metadata": {
        "colab": {
          "base_uri": "https://localhost:8080/"
        },
        "id": "l5DYL_4Hv_dR",
        "outputId": "07cd2a12-77de-4258-d790-3a0db6ad1e50"
      },
      "execution_count": 4,
      "outputs": [
        {
          "output_type": "stream",
          "name": "stdout",
          "text": [
            "6\n",
            "7\n",
            "8\n",
            "9\n",
            "10\n",
            "10\n",
            "9\n",
            "8\n",
            "7\n",
            "6\n"
          ]
        },
        {
          "output_type": "execute_result",
          "data": {
            "text/plain": [
              "6"
            ]
          },
          "metadata": {},
          "execution_count": 4
        }
      ]
    },
    {
      "cell_type": "code",
      "source": [
        "# 1 to nth print\n",
        "def to_nth(num):\n",
        "  if num == 0:\n",
        "    return 0\n",
        "\n",
        "  else:\n",
        "    to_nth(num - 1)\n",
        "    print(num, end = \", \")\n",
        "\n",
        "\n",
        "\n",
        "to_nth(20)"
      ],
      "metadata": {
        "colab": {
          "base_uri": "https://localhost:8080/"
        },
        "id": "VJXGkohdIPZp",
        "outputId": "03375526-821c-4c8c-98b6-c9479278c7c6"
      },
      "execution_count": 5,
      "outputs": [
        {
          "output_type": "stream",
          "name": "stdout",
          "text": [
            "1, 2, 3, 4, 5, 6, 7, 8, 9, 10, 11, 12, 13, 14, 15, 16, 17, 18, 19, 20, "
          ]
        }
      ]
    },
    {
      "cell_type": "code",
      "source": [
        "def to_nth(num):\n",
        "  if num <= 10:\n",
        "    print(num)\n",
        "    to_nth(num + 1)\n",
        "    print(\"a\")\n",
        "\n",
        "to_nth(1)"
      ],
      "metadata": {
        "colab": {
          "base_uri": "https://localhost:8080/"
        },
        "id": "0QkNHDip2ja8",
        "outputId": "5bee989d-74fc-4e59-a3e2-f3c10f912f2f"
      },
      "execution_count": null,
      "outputs": [
        {
          "output_type": "stream",
          "name": "stdout",
          "text": [
            "1\n",
            "2\n",
            "3\n",
            "4\n",
            "5\n",
            "6\n",
            "7\n",
            "8\n",
            "9\n",
            "10\n",
            "a\n",
            "a\n",
            "a\n",
            "a\n",
            "a\n",
            "a\n",
            "a\n",
            "a\n",
            "a\n",
            "a\n"
          ]
        }
      ]
    },
    {
      "cell_type": "code",
      "source": [
        "def to_nth(num):\n",
        "  if num <= 10:\n",
        "    to_nth(num + 1)\n",
        "    print(num)\n",
        "\n",
        "to_nth(1)"
      ],
      "metadata": {
        "colab": {
          "base_uri": "https://localhost:8080/"
        },
        "id": "EYk7g0cK92qH",
        "outputId": "11c89abd-4156-41fc-d1c2-c3aa4a1ec73c"
      },
      "execution_count": null,
      "outputs": [
        {
          "output_type": "stream",
          "name": "stdout",
          "text": [
            "10\n",
            "9\n",
            "8\n",
            "7\n",
            "6\n",
            "5\n",
            "4\n",
            "3\n",
            "2\n",
            "1\n"
          ]
        }
      ]
    },
    {
      "cell_type": "code",
      "source": [
        "def to_nth(num):\n",
        "  if num <= 10:\n",
        "    to_nth(num + 1)\n",
        "    if num == 1:\n",
        "      print(num)\n",
        "\n",
        "    else:\n",
        "      print(num, end = \", \")\n",
        "\n",
        "to_nth(1)"
      ],
      "metadata": {
        "colab": {
          "base_uri": "https://localhost:8080/"
        },
        "id": "tQH7o80tdutg",
        "outputId": "972250a6-69cc-49d2-8baa-f5577ba9221a"
      },
      "execution_count": null,
      "outputs": [
        {
          "output_type": "stream",
          "name": "stdout",
          "text": [
            "10, 9, 8, 7, 6, 5, 4, 3, 2, 1\n"
          ]
        }
      ]
    },
    {
      "cell_type": "code",
      "source": [
        "import numpy as np\n",
        "def print_array(array, index):\n",
        "  if index < len(array):\n",
        "    print(array[index])\n",
        "    print_array(array, index + 1)\n",
        "\n",
        "\n",
        "num = np.array([10, 20, 30, 40, 50])\n",
        "print_array(num, 0)"
      ],
      "metadata": {
        "colab": {
          "base_uri": "https://localhost:8080/"
        },
        "id": "cjn07P7se1hr",
        "outputId": "54ebe307-8989-401a-8fe9-99bc71b0c0b5"
      },
      "execution_count": 12,
      "outputs": [
        {
          "output_type": "stream",
          "name": "stdout",
          "text": [
            "10\n",
            "20\n",
            "30\n",
            "40\n",
            "50\n"
          ]
        }
      ]
    },
    {
      "cell_type": "code",
      "source": [
        "import numpy as np\n",
        "def print_array(array, index):\n",
        "  if index < len(array):\n",
        "    print_array(array, index + 1)\n",
        "    print(array[index])\n",
        "\n",
        "\n",
        "num = np.array([10, 20, 30, 40, 50])\n",
        "print_array(num, 0)"
      ],
      "metadata": {
        "colab": {
          "base_uri": "https://localhost:8080/"
        },
        "id": "8cIjzwV_fgv0",
        "outputId": "ef24958c-10cf-49a7-9f7b-2d4e62872eba"
      },
      "execution_count": null,
      "outputs": [
        {
          "output_type": "stream",
          "name": "stdout",
          "text": [
            "50\n",
            "40\n",
            "30\n",
            "20\n",
            "10\n"
          ]
        }
      ]
    },
    {
      "cell_type": "code",
      "source": [
        "def timeConversion(s):\n",
        "    # Write your code here\n",
        "    str1 = \"\"\n",
        "    counter = 0\n",
        "    for ch in s:\n",
        "      if ch == \":\":\n",
        "        break\n",
        "\n",
        "      else:\n",
        "        str1 += ch\n",
        "\n",
        "\n",
        "      counter += 1\n",
        "\n",
        "\n",
        "    print(s[len(s) - 1: len(s) - 3: -1])\n",
        "    if s[len(s) - 1: len(s) - 3: -1] == \"MP\":\n",
        "      if str1 != \"12\":\n",
        "\n",
        "        str1 = str(int(str1) + 12)\n",
        "\n",
        "    else:\n",
        "      if str1 == \"12\":\n",
        "        str1 = \"00\"\n",
        "\n",
        "    return str1 + s[counter: len(s) - 2]\n",
        "\n",
        "\n",
        "print(timeConversion(\"1:05:45PM\"))"
      ],
      "metadata": {
        "colab": {
          "base_uri": "https://localhost:8080/"
        },
        "id": "Nh8URfmHkr_H",
        "outputId": "9a1a1dd3-ee56-4e7a-ada6-92ecc17e6c43"
      },
      "execution_count": 6,
      "outputs": [
        {
          "output_type": "stream",
          "name": "stdout",
          "text": [
            "MP\n",
            "13:05:45\n"
          ]
        }
      ]
    }
  ]
}