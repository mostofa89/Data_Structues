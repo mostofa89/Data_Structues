{
  "cells": [
    {
      "cell_type": "markdown",
      "metadata": {
        "id": "view-in-github",
        "colab_type": "text"
      },
      "source": [
        "<a href=\"https://colab.research.google.com/github/mostofa89/Data_Structues/blob/main/BinarySearchTree.ipynb\" target=\"_parent\"><img src=\"https://colab.research.google.com/assets/colab-badge.svg\" alt=\"Open In Colab\"/></a>"
      ]
    },
    {
      "cell_type": "code",
      "source": [
        "class TreeNode:\n",
        "  def __init__(self, value):\n",
        "    self.value = value\n",
        "    self.left = None\n",
        "    self.right = None"
      ],
      "metadata": {
        "id": "yv1DzEqvjtGz"
      },
      "execution_count": 1,
      "outputs": []
    },
    {
      "cell_type": "code",
      "source": [
        "def insert(root, data):\n",
        "  if root == None:\n",
        "    return TreeNode(data)\n",
        "\n",
        "  if root.value == data:\n",
        "    return root\n",
        "\n",
        "  if data != None:\n",
        "    if data < root.value:\n",
        "      root.left = insert(root.left, data)\n",
        "\n",
        "    else:\n",
        "      root.right = insert(root.right, data)\n",
        "\n",
        "  return root"
      ],
      "metadata": {
        "id": "JTfJ8FDlkRS9"
      },
      "execution_count": 2,
      "outputs": []
    },
    {
      "cell_type": "code",
      "source": [
        "def inorderTraversal(root):\n",
        "  if root != None:\n",
        "    inorderTraversal(root.left)\n",
        "    print(root.value, end = \" \")\n",
        "    inorderTraversal(root.right)"
      ],
      "metadata": {
        "id": "BiqgQ5qKlIcJ"
      },
      "execution_count": 3,
      "outputs": []
    },
    {
      "cell_type": "code",
      "source": [
        "def preorderTraversal(root):\n",
        "  if root != None:\n",
        "    print(root.value, end = \" \")\n",
        "    preorderTraversal(root.left)\n",
        "    preorderTraversal(root.right)"
      ],
      "metadata": {
        "id": "dYWbIeD2m5yq"
      },
      "execution_count": 4,
      "outputs": []
    },
    {
      "cell_type": "code",
      "source": [
        "def postorderTraversal(root):\n",
        "  if root != None:\n",
        "    postorderTraversal(root.left)\n",
        "    postorderTraversal(root.right)\n",
        "    print(root.value, end = \" \")"
      ],
      "metadata": {
        "id": "PkeUiBtgnxfb"
      },
      "execution_count": 5,
      "outputs": []
    },
    {
      "cell_type": "code",
      "source": [
        "def printLevelOrder(root):\n",
        "    if root is None:\n",
        "        return\n",
        "\n",
        "    queue = []\n",
        "    queue.append(root)\n",
        "    ans = []\n",
        "\n",
        "    while (len(queue) > 0):\n",
        "      level = []\n",
        "      for i in range(len(queue)):\n",
        "        # print(queue[0].data, end=\" \")\n",
        "        level.append(queue[0].value)\n",
        "        node = queue.pop()\n",
        "        if node.left != None:\n",
        "          queue.append(node.left)\n",
        "\n",
        "        if node.right != None:\n",
        "          queue.append(node.right)\n",
        "      ans.append(level)\n",
        "\n",
        "    return ans"
      ],
      "metadata": {
        "id": "u77mm-fgLQyR"
      },
      "execution_count": 6,
      "outputs": []
    },
    {
      "cell_type": "code",
      "source": [
        "def nodeCount(root):\n",
        "  if root == None:\n",
        "    return 0\n",
        "\n",
        "  return 1 + nodeCount(root.left) + nodeCount(root.right)"
      ],
      "metadata": {
        "id": "49dbf0VdqQ4k"
      },
      "execution_count": 7,
      "outputs": []
    },
    {
      "cell_type": "code",
      "source": [
        "def sum_ofNodes(root):\n",
        "  if root == None:\n",
        "    return 0\n",
        "\n",
        "  return root.value + sum_ofNodes(root.left) + sum_ofNodes(root.right)"
      ],
      "metadata": {
        "id": "IXQtkMDZrCi2"
      },
      "execution_count": 8,
      "outputs": []
    },
    {
      "cell_type": "code",
      "source": [
        "def depth(root):\n",
        "  if root == None:\n",
        "    return -1\n",
        "\n",
        "  leftdepth = 1 + depth(root.left)\n",
        "  rightdepth = 1 + depth(root.right)\n",
        "  max_depth = leftdepth\n",
        "  if max_depth < rightdepth:\n",
        "    max_depth = rightdepth\n",
        "\n",
        "  return max_depth"
      ],
      "metadata": {
        "id": "lJdgBb1938Qe"
      },
      "execution_count": 9,
      "outputs": []
    },
    {
      "cell_type": "code",
      "source": [
        "def diameter(root):\n",
        "  diameter1 = [0]\n",
        "\n",
        "  def height(node):\n",
        "    if node is None:\n",
        "        return 0\n",
        "\n",
        "    left_height = height(node.left)\n",
        "    right_height = height(node.right)\n",
        "\n",
        "    diameter1[0] = max(diameter1[0], left_height + right_height)\n",
        "\n",
        "    return 1 + max(left_height, right_height)\n",
        "\n",
        "  height(root)\n",
        "  return diameter1[0]"
      ],
      "metadata": {
        "id": "zRbhG0YaG1aZ"
      },
      "execution_count": 10,
      "outputs": []
    },
    {
      "cell_type": "code",
      "source": [
        "def insertion(root, val):\n",
        "  if root == None:\n",
        "    return TreeNode(val)\n",
        "\n",
        "  if root.value == val:\n",
        "    return root\n",
        "\n",
        "  if val > root.value:\n",
        "    root.right = insertion(root.right, val)\n",
        "\n",
        "  else:\n",
        "    root.left = insertion(root.left, val)\n",
        "\n",
        "  return root"
      ],
      "metadata": {
        "id": "kN9sSDucb2JB"
      },
      "execution_count": 11,
      "outputs": []
    },
    {
      "cell_type": "code",
      "source": [
        "def search(root, val):\n",
        "  if root == None:\n",
        "    return False\n",
        "\n",
        "  if root.value == val:\n",
        "    return True\n",
        "\n",
        "  if val > root.value:\n",
        "    return search(root.right, val)\n",
        "\n",
        "  else:\n",
        "    return search(root.left, val)\n",
        "\n",
        "  return False"
      ],
      "metadata": {
        "id": "X_mE7jGXDFwg"
      },
      "execution_count": 12,
      "outputs": []
    },
    {
      "cell_type": "code",
      "source": [
        "def delete(root, val):\n",
        "  def inorderSccessor(root):\n",
        "    while root.left != None:\n",
        "      root = root.left\n",
        "\n",
        "    return root\n",
        "\n",
        "  if val > root.value:\n",
        "    root.right = delete(root.right, val)\n",
        "\n",
        "  elif val == root.value:\n",
        "    if root.left == None and root.right == None:\n",
        "      return None\n",
        "\n",
        "    if root.left == None:\n",
        "      return root.right\n",
        "\n",
        "    elif root.right == None:\n",
        "      return root.left\n",
        "\n",
        "    successor = inorderSccessor(root.right)\n",
        "    root.value = successor.value\n",
        "    root.right = delete(root.right, successor.value)\n",
        "\n",
        "\n",
        "  else:\n",
        "    root.left = delete(root.left, val)\n",
        "\n",
        "  return root"
      ],
      "metadata": {
        "id": "Zjfa99UttAng"
      },
      "execution_count": 13,
      "outputs": []
    },
    {
      "cell_type": "code",
      "source": [
        "def printInRange(root, x, y):\n",
        "  if root == None:\n",
        "    return\n",
        "  if x < root.value and y > root.value:\n",
        "    printInRange(root.left, x, y)\n",
        "    print(root.value, end = \" \")\n",
        "    printInRange(root.right, x, y)\n",
        "\n",
        "  elif root.value > y:\n",
        "    printInRange(root.left, x, y)\n",
        "\n",
        "  else:\n",
        "    printInRange(root.right, x, y)"
      ],
      "metadata": {
        "id": "aAIRdapmSI1a"
      },
      "execution_count": 14,
      "outputs": []
    },
    {
      "cell_type": "code",
      "source": [
        "def root2Leaf(root, list1):\n",
        "  if root == None:\n",
        "    return\n",
        "\n",
        "  list1.append(root.value)\n",
        "\n",
        "  if root.left == None or root.right == None:\n",
        "    print(list1)\n",
        "\n",
        "  else:\n",
        "    root2Leaf(root.left, list1)\n",
        "    root2Leaf(root.right, list1)\n",
        "\n",
        "  list1.pop(len(list1) - 1)"
      ],
      "metadata": {
        "id": "aDAheqsdWlhO"
      },
      "execution_count": 15,
      "outputs": []
    },
    {
      "cell_type": "code",
      "source": [
        "def mirror(root):\n",
        "  if root != None:\n",
        "    left = root.left\n",
        "    root.left = mirror(root.right)\n",
        "    root.right = mirror(left)\n",
        "\n",
        "  return root"
      ],
      "metadata": {
        "id": "zlf5yCX_ZZ8i"
      },
      "execution_count": 16,
      "outputs": []
    },
    {
      "cell_type": "code",
      "source": [
        "def miniumval(root):\n",
        "  if root.left == None:\n",
        "    return root.value\n",
        "\n",
        "  return miniumval(root.left)"
      ],
      "metadata": {
        "id": "BnPax8ER7W5D"
      },
      "execution_count": 17,
      "outputs": []
    },
    {
      "cell_type": "code",
      "source": [
        "def maxiumval(root):\n",
        "  if root.right == None:\n",
        "    return root.value\n",
        "\n",
        "  return maxiumval(root.right)"
      ],
      "metadata": {
        "id": "5S7EpNJU_tdA"
      },
      "execution_count": 18,
      "outputs": []
    },
    {
      "cell_type": "code",
      "source": [
        "def lowestCommonAnsistor(root, val1, val2):\n",
        "  if root == None:\n",
        "    return None\n",
        "\n",
        "  if root.value == val1 or root.value == val2:\n",
        "    return root\n",
        "\n",
        "  leftLCA = lowestCommonAnsistor(root.left, val1, val2)\n",
        "  rightLCA = lowestCommonAnsistor(root.right, val1, val2)\n",
        "\n",
        "  if leftLCA != None and rightLCA != None:\n",
        "    return root\n",
        "\n",
        "  if leftLCA != None:\n",
        "    return leftLCA\n",
        "\n",
        "  else:\n",
        "    return rightLCA"
      ],
      "metadata": {
        "id": "Jx1c_kVqE-2q"
      },
      "execution_count": 19,
      "outputs": []
    },
    {
      "cell_type": "code",
      "source": [
        "# def lowestCommonAncestor(root, val1, val2):\n",
        "#   node = root\n",
        "\n",
        "#   while node != None:\n",
        "#     if val1 > node.value and val2 > node.value:\n",
        "#       node = node.right\n",
        "\n",
        "#     elif node.value < val1 and node.value < val2:\n",
        "#       node = node.left\n",
        "\n",
        "#     else:\n",
        "#       return node\n",
        "\n",
        "def lowestCommonAncestor(root, key1, key2):\n",
        "    if root == None:\n",
        "      return None\n",
        "    if root.value < key1 and root.value < key2:\n",
        "      return lowestCommonAncestor(root.right, key1, key2)\n",
        "\n",
        "    elif root.value > key1 and root.value > key2:\n",
        "      lowestCommonAncestor(root.left, key1, key2)\n",
        "\n",
        "    else:\n",
        "      return root"
      ],
      "metadata": {
        "id": "nkh5z1jgBrHY"
      },
      "execution_count": 20,
      "outputs": []
    },
    {
      "cell_type": "code",
      "source": [
        "root = None\n",
        "values = [10, 5, 5, 15, 2, 7, 12, 17, 26]\n",
        "for value in values:\n",
        "  root = insert(root, value)\n",
        "print(\"Inorder Traversel : \")\n",
        "inorderTraversal(root)\n",
        "print(\"\\nPreorder Traversal : \")\n",
        "preorderTraversal(root)\n",
        "print(\"\\nPostorder Traversal : \")\n",
        "postorderTraversal(root)\n",
        "print(\"\\nLevel Order Traversing :\", printLevelOrder(root))\n",
        "print(\"Number of nodes : \" + str(nodeCount(root)))\n",
        "print(\"Sum of nodes : \" + str(sum_ofNodes(root)))\n",
        "print(\"Height of tree : \" + str(depth(root)))\n",
        "print(\"Largest Diameter : \")\n",
        "print(diameter(root))\n",
        "values = [10, 1]\n",
        "root1 = None\n",
        "for value in values:\n",
        "  root1 = insert(root1, value)\n",
        "print(\"Largest Diameter : \")\n",
        "print(diameter(root1))\n",
        "insertion(root, 16)\n",
        "print(\"Preorder Traversal : \")\n",
        "preorderTraversal(root)\n",
        "print()\n",
        "print(search(root, 5))\n",
        "root = delete(root, 15)\n",
        "print(\"Preorder Traversal : \")\n",
        "preorderTraversal(root)\n",
        "print()\n",
        "print(\"Print In Range: \")\n",
        "printInRange(root, 5, 17)\n",
        "print()\n",
        "root2Leaf(root, [])\n",
        "# root = mirror(root)\n",
        "print(\"Preorder Traversal : \")\n",
        "preorderTraversal(root)\n",
        "print()\n",
        "# root = mirror(root)\n",
        "print(\"Minium Value of Tree :\", miniumval(root))\n",
        "print(\"Minium Value of Tree :\", maxiumval(root))\n",
        "print(\"lowest Common Ansistor :\",lowestCommonAnsistor(root, 12, 10).value)\n",
        "print(lowestCommonAncestor(root, 12, 10).value)"
      ],
      "metadata": {
        "colab": {
          "base_uri": "https://localhost:8080/"
        },
        "id": "Ez_M0Nkfl2ot",
        "outputId": "6f126427-197b-4e6b-f5e5-c44476e146e8"
      },
      "execution_count": 21,
      "outputs": [
        {
          "output_type": "stream",
          "name": "stdout",
          "text": [
            "Inorder Traversel : \n",
            "2 5 7 10 12 15 17 26 \n",
            "Preorder Traversal : \n",
            "10 5 2 7 15 12 17 26 \n",
            "Postorder Traversal : \n",
            "2 7 5 12 26 17 15 10 \n",
            "Level Order Traversing : [[10], [5, 5], [5, 5, 5], [2, 2]]\n",
            "Number of nodes : 8\n",
            "Sum of nodes : 94\n",
            "Height of tree : 3\n",
            "Largest Diameter : \n",
            "5\n",
            "Largest Diameter : \n",
            "1\n",
            "Preorder Traversal : \n",
            "10 5 2 7 15 12 17 16 26 \n",
            "True\n",
            "Preorder Traversal : \n",
            "10 5 2 7 16 12 17 26 \n",
            "Print In Range: \n",
            "7 10 12 16 \n",
            "[10, 5, 2]\n",
            "[10, 5, 7]\n",
            "[10, 16, 12]\n",
            "[10, 16, 17]\n",
            "Preorder Traversal : \n",
            "10 5 2 7 16 12 17 26 \n",
            "Minium Value of Tree : 2\n",
            "Minium Value of Tree : 26\n",
            "lowest Common Ansistor : 10\n",
            "10\n"
          ]
        }
      ]
    }
  ],
  "metadata": {
    "colab": {
      "provenance": [],
      "authorship_tag": "ABX9TyOdOg0AYDC1m1INxrfTDG7h",
      "include_colab_link": true
    },
    "kernelspec": {
      "display_name": "Python 3",
      "name": "python3"
    },
    "language_info": {
      "name": "python"
    }
  },
  "nbformat": 4,
  "nbformat_minor": 0
}