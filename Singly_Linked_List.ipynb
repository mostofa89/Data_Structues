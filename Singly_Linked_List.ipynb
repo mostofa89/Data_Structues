{
  "cells": [
    {
      "cell_type": "markdown",
      "metadata": {
        "id": "view-in-github",
        "colab_type": "text"
      },
      "source": [
        "<a href=\"https://colab.research.google.com/github/mostofa89/Data_Structues/blob/main/Singly_Linked_List.ipynb\" target=\"_parent\"><img src=\"https://colab.research.google.com/assets/colab-badge.svg\" alt=\"Open In Colab\"/></a>"
      ]
    },
    {
      "cell_type": "markdown",
      "metadata": {
        "id": "4LYYhNdvi03h"
      },
      "source": [
        "\n",
        "\n",
        "1.   Be careful in which question you are required to change the given Linked list and where you are required to create a new one\n",
        "2.   Be careful of the first node and the last node [aka corner cases]\n",
        "3.   Do not use any other data structure other than Linked List\n",
        "\n"
      ]
    },
    {
      "cell_type": "markdown",
      "metadata": {
        "id": "v8m-0O9Pi9ET"
      },
      "source": [
        "**You must run this cell to install dependency**"
      ]
    },
    {
      "cell_type": "code",
      "execution_count": 1,
      "metadata": {
        "colab": {
          "base_uri": "https://localhost:8080/"
        },
        "id": "3vZHyMlVi0cs",
        "outputId": "082c45c5-ff3f-43d4-db4c-a1a3baffc77f"
      },
      "outputs": [
        {
          "output_type": "stream",
          "name": "stdout",
          "text": [
            "Collecting fhm-unittest\n",
            "  Downloading fhm_unittest-1.0.1-py3-none-any.whl.metadata (1.9 kB)\n",
            "Downloading fhm_unittest-1.0.1-py3-none-any.whl (2.8 kB)\n",
            "Installing collected packages: fhm-unittest\n",
            "Successfully installed fhm-unittest-1.0.1\n",
            "Collecting fuzzywuzzy\n",
            "  Downloading fuzzywuzzy-0.18.0-py2.py3-none-any.whl.metadata (4.9 kB)\n",
            "Downloading fuzzywuzzy-0.18.0-py2.py3-none-any.whl (18 kB)\n",
            "Installing collected packages: fuzzywuzzy\n",
            "Successfully installed fuzzywuzzy-0.18.0\n"
          ]
        },
        {
          "output_type": "stream",
          "name": "stderr",
          "text": [
            "/usr/local/lib/python3.11/dist-packages/fuzzywuzzy/fuzz.py:11: UserWarning: Using slow pure-python SequenceMatcher. Install python-Levenshtein to remove this warning\n",
            "  warnings.warn('Using slow pure-python SequenceMatcher. Install python-Levenshtein to remove this warning')\n"
          ]
        }
      ],
      "source": [
        "! pip3 install fhm-unittest\n",
        "! pip3 install fuzzywuzzy\n",
        "import fhm_unittest as unittest\n",
        "import numpy as np"
      ]
    },
    {
      "cell_type": "markdown",
      "metadata": {
        "id": "b7eLAb26jNlR"
      },
      "source": [
        "**You must Run this cell for your driver code to execute successfully**"
      ]
    },
    {
      "cell_type": "code",
      "execution_count": 2,
      "metadata": {
        "id": "Yvtwdm02iNbm"
      },
      "outputs": [],
      "source": [
        "#Run this cell\n",
        "class Node:\n",
        "  def __init__(self,elem,next = None):\n",
        "    self.elem,self.next = elem,next\n",
        "\n",
        "def createList(arr):\n",
        "  head = Node(arr[0])\n",
        "  tail = head\n",
        "  for i in range(1,len(arr)):\n",
        "    newNode = Node(arr[i])\n",
        "    tail.next = newNode\n",
        "    tail = newNode\n",
        "  return head\n",
        "\n",
        "def printLinkedList(head):\n",
        "  temp = head\n",
        "  while temp != None:\n",
        "    if temp.next != None:\n",
        "      print(temp.elem, end = '-->')\n",
        "    else:\n",
        "      print(temp.elem)\n",
        "    temp = temp.next\n",
        "  print()\n"
      ]
    },
    {
      "cell_type": "markdown",
      "metadata": {
        "id": "YcFhPJxPjcfl"
      },
      "source": [
        "Task 1: Building Blocks"
      ]
    },
    {
      "cell_type": "code",
      "execution_count": 3,
      "metadata": {
        "colab": {
          "base_uri": "https://localhost:8080/"
        },
        "id": "QU2I53-4jWSo",
        "outputId": "5c68d640-f85a-4e04-f9ed-006702fa41ee"
      },
      "outputs": [
        {
          "output_type": "stream",
          "name": "stdout",
          "text": [
            "==============Test Case 1=============\n",
            "Building 1:  Red-->Green-->Yellow-->Red-->Blue-->Green\n",
            "\n",
            "Building 2:  Red-->Green-->Yellow-->Red-->Blue-->Green\n",
            "\n",
            "Similar\n",
            "Accepted\n",
            "\n",
            "==============Test Case 2=============\n",
            "Building 1:  Red-->Green-->Yellow-->Red-->Yellow-->Green\n",
            "\n",
            "Building 2:  Red-->Green-->Yellow-->Red-->Blue-->Green\n",
            "\n",
            "Not Similar\n",
            "Accepted\n",
            "\n",
            "==============Test Case 3=============\n",
            "Building 1:  Red-->Green-->Yellow-->Red-->Blue-->Green\n",
            "\n",
            "Building 2:  Red-->Green-->Yellow-->Red-->Blue-->Green-->Blue\n",
            "\n",
            "Not Similar\n",
            "Accepted\n",
            "\n",
            "==============Test Case 4=============\n",
            "Building 1:  Red-->Green-->Yellow-->Red-->Blue-->Green-->Blue\n",
            "\n",
            "Building 2:  Red-->Green-->Yellow-->Red-->Blue-->Green\n",
            "\n",
            "Not Similar\n",
            "Accepted\n",
            "\n"
          ]
        }
      ],
      "source": [
        "def check_similar(building_1, building_2):\n",
        "  #TO DO\n",
        "  if building_1 == None and  building_2 == None:\n",
        "    return \"Similar\"\n",
        "\n",
        "  if building_1 == None or  building_2 == None:\n",
        "    return \"Not Similar\"\n",
        "\n",
        "\n",
        "  if building_1.elem != building_2.elem:\n",
        "    return \"Not Similar\"\n",
        "\n",
        "  return check_similar(building_1.next, building_2.next)\n",
        "\n",
        "\n",
        "print('==============Test Case 1=============')\n",
        "building_1 = createList(np.array(['Red', 'Green', 'Yellow', 'Red', 'Blue', 'Green']))\n",
        "building_2 = createList(np.array(['Red', 'Green', 'Yellow', 'Red', 'Blue', 'Green']))\n",
        "print('Building 1: ', end = ' ')\n",
        "printLinkedList(building_1)\n",
        "print('Building 2: ', end = ' ')\n",
        "printLinkedList(building_2)\n",
        "returned_value = check_similar(building_1, building_2)\n",
        "print(returned_value) #This should print 'Similar'\n",
        "unittest.output_test(returned_value, 'Similar')\n",
        "print()\n",
        "\n",
        "print('==============Test Case 2=============')\n",
        "building_1 = createList(np.array(['Red', 'Green', 'Yellow', 'Red', 'Yellow', 'Green']))\n",
        "building_2 = createList(np.array(['Red', 'Green', 'Yellow', 'Red', 'Blue', 'Green']))\n",
        "print('Building 1: ', end = ' ')\n",
        "printLinkedList(building_1)\n",
        "print('Building 2: ', end = ' ')\n",
        "printLinkedList(building_2)\n",
        "returned_value = check_similar(building_1, building_2)\n",
        "print(returned_value) #This should print 'Not Similar'\n",
        "unittest.output_test(returned_value, 'Not Similar')\n",
        "print()\n",
        "\n",
        "print('==============Test Case 3=============')\n",
        "building_1 = createList(np.array(['Red', 'Green', 'Yellow', 'Red', 'Blue', 'Green']))\n",
        "building_2 = createList(np.array(['Red', 'Green', 'Yellow', 'Red', 'Blue', 'Green', 'Blue']))\n",
        "print('Building 1: ', end = ' ')\n",
        "printLinkedList(building_1)\n",
        "print('Building 2: ', end = ' ')\n",
        "printLinkedList(building_2)\n",
        "returned_value = check_similar(building_1, building_2)\n",
        "print(returned_value) #This should print 'Not Similar'\n",
        "unittest.output_test(returned_value, 'Not Similar')\n",
        "print()\n",
        "\n",
        "print('==============Test Case 4=============')\n",
        "building_1 = createList(np.array(['Red', 'Green', 'Yellow', 'Red', 'Blue', 'Green', 'Blue']))\n",
        "building_2 = createList(np.array(['Red', 'Green', 'Yellow', 'Red', 'Blue', 'Green']))\n",
        "print('Building 1: ', end = ' ')\n",
        "printLinkedList(building_1)\n",
        "print('Building 2: ', end = ' ')\n",
        "printLinkedList(building_2)\n",
        "returned_value = check_similar(building_1, building_2)\n",
        "print(returned_value) #This should print 'Not Similar'\n",
        "unittest.output_test(returned_value, 'Not Similar')\n",
        "print()"
      ]
    },
    {
      "cell_type": "markdown",
      "metadata": {
        "id": "KXf5NwHJjrga"
      },
      "source": [
        "Task 2: Remove Compartment"
      ]
    },
    {
      "cell_type": "code",
      "execution_count": 4,
      "metadata": {
        "colab": {
          "base_uri": "https://localhost:8080/"
        },
        "id": "RZFDGPlGkC9M",
        "outputId": "14fc54d5-b565-4fca-c32f-1b0841ae3120"
      },
      "outputs": [
        {
          "output_type": "stream",
          "name": "stdout",
          "text": [
            "==============Test Case 1=============\n",
            "Original Compartment Sequence:  10-->15-->34-->41-->56-->72\n",
            "\n",
            "Changed Compartment Sequence:  10-->15-->34-->41-->72\n",
            "\n",
            "\n",
            "==============Test Case 2=============\n",
            "Original Compartment Sequence:  10-->15-->34-->41-->56-->72\n",
            "\n",
            "Changed Compartment Sequence:  10-->15-->34-->41-->56-->72\n",
            "\n",
            "\n",
            "==============Test Case 3=============\n",
            "Original Compartment Sequence:  10-->15-->34-->41-->56-->72\n",
            "\n",
            "Changed Compartment Sequence:  15-->34-->41-->56-->72\n",
            "\n",
            "\n"
          ]
        }
      ],
      "source": [
        "def remove_compartment(head,n):\n",
        "  #TO DO\n",
        "  current = head\n",
        "  total = 0\n",
        "  while current != None:\n",
        "    current = current.next\n",
        "    total += 1\n",
        "\n",
        "\n",
        "  node = head\n",
        "  counter = 0\n",
        "  prev = None\n",
        "  current = None\n",
        "\n",
        "  if total < n:\n",
        "    return head\n",
        "\n",
        "  elif n - total == 0:\n",
        "    head = node.next\n",
        "    return head\n",
        "\n",
        "  else:\n",
        "    while node != None:\n",
        "      if total - n - 1 == counter:\n",
        "        node.next = node.next.next\n",
        "        break\n",
        "\n",
        "      # prev = node\n",
        "      node = node.next\n",
        "      counter += 1\n",
        "    # prev.next = current\n",
        "\n",
        "    return  head\n",
        "\n",
        "\n",
        "print('==============Test Case 1=============')\n",
        "head = createList(np.array([10,15,34,41,56,72]))\n",
        "print('Original Compartment Sequence: ', end = ' ')\n",
        "printLinkedList(head)\n",
        "head = remove_compartment(head,2)\n",
        "print('Changed Compartment Sequence: ', end = ' ')\n",
        "printLinkedList(head) #This should print 10-->15-->34-->41-->72\n",
        "print()\n",
        "print('==============Test Case 2=============')\n",
        "head = createList(np.array([10,15,34,41,56,72]))\n",
        "print('Original Compartment Sequence: ', end = ' ')\n",
        "printLinkedList(head)\n",
        "head = remove_compartment(head,7)\n",
        "print('Changed Compartment Sequence: ', end = ' ')\n",
        "printLinkedList(head) #This should print 10-->15-->34-->41-->56-->72\n",
        "print()\n",
        "print('==============Test Case 3=============')\n",
        "head = createList(np.array([10,15,34,41,56,72]))\n",
        "print('Original Compartment Sequence: ', end = ' ')\n",
        "printLinkedList(head)\n",
        "head = remove_compartment(head,6)\n",
        "print('Changed Compartment Sequence: ', end = ' ')\n",
        "printLinkedList(head) #This should print 15-->34-->41-->56-->72\n",
        "print()"
      ]
    },
    {
      "cell_type": "markdown",
      "metadata": {
        "id": "1ru-53ewkgET"
      },
      "source": [
        "Task 3: Assemble Conga Line"
      ]
    },
    {
      "cell_type": "code",
      "execution_count": 5,
      "metadata": {
        "colab": {
          "base_uri": "https://localhost:8080/"
        },
        "id": "el2Iqez0kmfD",
        "outputId": "264e903e-0909-46cf-9b5f-e0e5781380b6"
      },
      "outputs": [
        {
          "output_type": "stream",
          "name": "stdout",
          "text": [
            "==============Test Case 1=============\n",
            "Original Conga Line:  10-->15-->34-->41-->56-->72\n",
            "\n",
            "True\n",
            "Accepted\n",
            "\n",
            "==============Test Case 2=============\n",
            "Original Conga Line:  10-->15-->44-->41-->56-->72\n",
            "\n",
            "False\n",
            "Accepted\n",
            "\n"
          ]
        }
      ],
      "source": [
        "def assemble_conga_line(conga_line):\n",
        "  #TO DO\n",
        "  node = conga_line\n",
        "  flag = True\n",
        "  if conga_line.next == None:\n",
        "    return True\n",
        "\n",
        "  if conga_line.elem > conga_line.next.elem:\n",
        "    return False\n",
        "\n",
        "  return assemble_conga_line(conga_line.next)\n",
        "\n",
        "\n",
        "print('==============Test Case 1=============')\n",
        "conga_line = createList(np.array([10,15,34,41,56,72]))\n",
        "print('Original Conga Line: ', end = ' ')\n",
        "printLinkedList(conga_line)\n",
        "returned_value = assemble_conga_line(conga_line)\n",
        "print(returned_value) #This should print True\n",
        "unittest.output_test(returned_value, True)\n",
        "print()\n",
        "print('==============Test Case 2=============')\n",
        "conga_line = createList(np.array([10,15,44,41,56,72]))\n",
        "print('Original Conga Line: ', end = ' ')\n",
        "printLinkedList(conga_line)\n",
        "returned_value = assemble_conga_line(conga_line)\n",
        "print(returned_value) #This should print False\n",
        "unittest.output_test(returned_value, False)\n",
        "print()"
      ]
    },
    {
      "cell_type": "code",
      "source": [
        "def sort(conga_line):\n",
        "  #TO DO\n",
        "  x_node = conga_line\n",
        "  temp = None\n",
        "  while x_node.next != None:\n",
        "    x_next = x_node.next\n",
        "    y_node = x_node.next\n",
        "    while y_node != None:\n",
        "      y_next = y_node.next\n",
        "      if y_node.elem < x_node.elem:\n",
        "        temp = x_node.elem\n",
        "        x_node.elem = y_node.elem\n",
        "        y_node.elem = temp\n",
        "\n",
        "      y_node = y_next\n",
        "\n",
        "    x_node = x_next\n",
        "\n",
        "  printLinkedList(conga_line)\n",
        "  return\n",
        "\n",
        "\n",
        "print('==============Test Case 1=============')\n",
        "conga_line = createList(np.array([10, 50, 15,34,41,56,72]))\n",
        "print('Original Conga Line: ', end = ' ')\n",
        "printLinkedList(conga_line)\n",
        "returned_value = sort(conga_line)\n",
        "print(returned_value)\n",
        "print()\n",
        "print('==============Test Case 2=============')\n",
        "conga_line = createList(np.array([10,15,44,41,56,72, 5]))\n",
        "print('Original Conga Line: ', end = ' ')\n",
        "printLinkedList(conga_line)\n",
        "returned_value = sort(conga_line)\n",
        "print(returned_value)"
      ],
      "metadata": {
        "colab": {
          "base_uri": "https://localhost:8080/"
        },
        "id": "obMC2TE3y7Bf",
        "outputId": "f1d1fcc1-e986-4470-9ba9-adddd7a9797b"
      },
      "execution_count": 6,
      "outputs": [
        {
          "output_type": "stream",
          "name": "stdout",
          "text": [
            "==============Test Case 1=============\n",
            "Original Conga Line:  10-->50-->15-->34-->41-->56-->72\n",
            "\n",
            "10-->15-->34-->41-->50-->56-->72\n",
            "\n",
            "None\n",
            "\n",
            "==============Test Case 2=============\n",
            "Original Conga Line:  10-->15-->44-->41-->56-->72-->5\n",
            "\n",
            "5-->10-->15-->41-->44-->56-->72\n",
            "\n",
            "None\n"
          ]
        }
      ]
    },
    {
      "cell_type": "markdown",
      "metadata": {
        "id": "iD_ytSvbloPy"
      },
      "source": [
        "Task 4: Word Decoder"
      ]
    },
    {
      "cell_type": "code",
      "execution_count": 7,
      "metadata": {
        "colab": {
          "base_uri": "https://localhost:8080/"
        },
        "id": "PU6PxoNllxdf",
        "outputId": "40e8603b-6bc5-4011-c542-dced8326cb3c"
      },
      "outputs": [
        {
          "output_type": "stream",
          "name": "stdout",
          "text": [
            "==============Test Case 1=============\n",
            "Encoded Word:\n",
            "B-->M-->D-->T-->N-->O-->A-->P-->S-->C\n",
            "\n",
            "Decoded Word:\n",
            "None-->C-->A-->T\n",
            "\n",
            "==============Test Case 2=============\n",
            "Encoded Word:\n",
            "Z-->O-->T-->N-->X\n",
            "\n",
            "Decoded Word:\n",
            "None-->N\n",
            "\n"
          ]
        }
      ],
      "source": [
        "def word_Decoder(head):\n",
        "  count  = 0\n",
        "  temp = head\n",
        "  while temp != None:\n",
        "    count += 1\n",
        "    temp = temp.next\n",
        "  x = 13 % count\n",
        "  new_head = None\n",
        "  tail = None\n",
        "  for i in range(x, count, x):\n",
        "    node = head\n",
        "    counter = 0\n",
        "    while node != None:\n",
        "      new = Node(node.elem, None)\n",
        "      if i == counter:\n",
        "        if new_head == None:\n",
        "          new_head = new\n",
        "          tail = new_head\n",
        "\n",
        "        else:\n",
        "          tail.next = new\n",
        "          tail = new\n",
        "\n",
        "        break\n",
        "\n",
        "      node = node.next\n",
        "      counter += 1\n",
        "\n",
        "  prev = new_head\n",
        "  current = new_head.next\n",
        "  while current != None:\n",
        "      next_node = current.next\n",
        "      current.next = prev\n",
        "      prev = current\n",
        "      current = next_node\n",
        "  new_head.next = None\n",
        "  new_head = Node(None, None)\n",
        "  new_head.next = prev\n",
        "\n",
        "  return new_head\n",
        "\n",
        "\n",
        "\n",
        "\n",
        "\n",
        "#Driver Code\n",
        "print('==============Test Case 1=============')\n",
        "head = createList(np.array(['B', 'M', 'D', 'T', 'N', 'O', 'A', 'P', 'S', 'C']))\n",
        "print(\"Encoded Word:\")\n",
        "printLinkedList(head) #This should print B→M→D→T→N→O→A→P→S→C\n",
        "\n",
        "result = word_Decoder(head)\n",
        "print(\"Decoded Word:\")\n",
        "printLinkedList(result)    #This should print None→C→A→T\n",
        "\n",
        "print('==============Test Case 2=============')\n",
        "\n",
        "head = createList(np.array(['Z', 'O', 'T', 'N', 'X']))\n",
        "print(\"Encoded Word:\")\n",
        "printLinkedList(head) #This should print Z→O→T→N→X\n",
        "\n",
        "result = word_Decoder(head)\n",
        "print(\"Decoded Word:\")\n",
        "printLinkedList(result)    #This should print None→N\n"
      ]
    },
    {
      "cell_type": "markdown",
      "metadata": {
        "id": "KH4qPwI-nIN4"
      },
      "source": [
        "Task 5: Alternate Merge"
      ]
    },
    {
      "cell_type": "code",
      "execution_count": 8,
      "metadata": {
        "colab": {
          "base_uri": "https://localhost:8080/"
        },
        "id": "0D7bZtp1nMRI",
        "outputId": "4a85b6e7-76dd-458a-c218-f0967992ab75"
      },
      "outputs": [
        {
          "output_type": "stream",
          "name": "stdout",
          "text": [
            "==============Test Case 1=============\n",
            "Linked List 1:\n",
            "1-->2-->6-->8-->11\n",
            "\n",
            "Linked List 2:\n",
            "5-->7-->3-->9-->4\n",
            "\n",
            "Merged Linked List:\n",
            "1-->5-->2-->7-->6-->3-->8-->9-->11-->4\n",
            "\n",
            "==============Test Case 2=============\n",
            "Linked List 1:\n",
            "5-->3-->2-->-4\n",
            "\n",
            "Linked List 2:\n",
            "-4-->-6-->1\n",
            "\n",
            "Merged Linked List:\n",
            "5-->-4-->3-->-6-->2-->1-->-4\n",
            "\n",
            "==============Test Case 3=============\n",
            "Linked List 1:\n",
            "4-->2-->-2-->-4\n",
            "\n",
            "Linked List 2:\n",
            "8-->6-->5-->-3\n",
            "\n",
            "Merged Linked List:\n",
            "4-->8-->2-->6-->-2-->5-->-4-->-3\n",
            "\n"
          ]
        }
      ],
      "source": [
        "def alternate_merge(head1, head2):\n",
        "  #TO DO\n",
        "  x_node = head1\n",
        "  y_node =  head2\n",
        "  new_head = None\n",
        "  while x_node != None and y_node != None:\n",
        "    if new_head == None:\n",
        "      new_head = x_node\n",
        "\n",
        "    x_next = x_node.next\n",
        "    y_next = y_node.next\n",
        "\n",
        "    x_node.next = y_node\n",
        "    y_node.next = x_next\n",
        "\n",
        "    x_node = x_next\n",
        "    y_node = y_next\n",
        "\n",
        "  return new_head\n",
        "\n",
        "\n",
        "print('==============Test Case 1=============')\n",
        "head1 = createList(np.array([1,2,6,8,11]))\n",
        "head2 = createList(np.array([5,7,3,9,4]))\n",
        "\n",
        "print(\"Linked List 1:\")\n",
        "printLinkedList(head1)\n",
        "print(\"Linked List 2:\")\n",
        "printLinkedList(head2)\n",
        "\n",
        "head = alternate_merge(head1, head2)\n",
        "print(\"Merged Linked List:\")\n",
        "printLinkedList(head)    #This should print    1 --> 5 --> 2 --> 7 --> 6 --> 3 --> 8 --> 9 --> 11 --> 4\n",
        "\n",
        "\n",
        "print('==============Test Case 2=============')\n",
        "head1 = createList(np.array([5, 3, 2, -4]))\n",
        "head2 = createList(np.array([-4, -6, 1]))\n",
        "\n",
        "print(\"Linked List 1:\")\n",
        "printLinkedList(head1)\n",
        "print(\"Linked List 2:\")\n",
        "printLinkedList(head2)\n",
        "\n",
        "head = alternate_merge(head1, head2)\n",
        "print(\"Merged Linked List:\")\n",
        "printLinkedList(head)    #This should print    5 → -4 -> 3 → -6 -> 2 -> 1 -> -4\n",
        "\n",
        "\n",
        "print('==============Test Case 3=============')\n",
        "head1 = createList(np.array([4, 2, -2, -4]))\n",
        "head2 = createList(np.array([8, 6, 5, -3]))\n",
        "\n",
        "print(\"Linked List 1:\")\n",
        "printLinkedList(head1)\n",
        "print(\"Linked List 2:\")\n",
        "printLinkedList(head2)\n",
        "\n",
        "head = alternate_merge(head1, head2)\n",
        "print(\"Merged Linked List:\")\n",
        "printLinkedList(head)    #This should print   4-> 8 → 2-> 6 → -2 → 5 → -4 -> -3\n"
      ]
    },
    {
      "cell_type": "markdown",
      "metadata": {
        "id": "g8b2lKE5o4HE"
      },
      "source": [
        "Task 6: Sum of Nodes"
      ]
    },
    {
      "cell_type": "code",
      "execution_count": 9,
      "metadata": {
        "colab": {
          "base_uri": "https://localhost:8080/"
        },
        "id": "AeUE5H0so6oP",
        "outputId": "c542d6eb-a28e-4e1c-a400-8bc17b6ef349"
      },
      "outputs": [
        {
          "output_type": "stream",
          "name": "stdout",
          "text": [
            "==============Test Case 1=============\n",
            "Sum of Nodes: 4\n",
            "Accepted\n",
            "\n"
          ]
        }
      ],
      "source": [
        "def sum_dist(head, arr):\n",
        "  #TO DO\n",
        "  summ = 0\n",
        "  for i in arr:\n",
        "    counter = 0\n",
        "    node = head\n",
        "    while node != None:\n",
        "      if counter == i:\n",
        "        summ += node.elem\n",
        "\n",
        "      node = node.next\n",
        "      counter += 1\n",
        "\n",
        "  return summ\n",
        "\n",
        "\n",
        "print('==============Test Case 1=============')\n",
        "LL1 = createList(np.array([10,16,-5,9,3,4]))\n",
        "dist = np.array([2,0,5,2,8])\n",
        "returned_value = sum_dist(LL1, dist)\n",
        "print(f'Sum of Nodes: {returned_value}') #This should print Sum of Nodes: 4\n",
        "unittest.output_test(returned_value, 4)\n",
        "print()"
      ]
    },
    {
      "cell_type": "markdown",
      "metadata": {
        "id": "pNihvj0mqZGx"
      },
      "source": [
        "Bonus Task: ID Generator"
      ]
    },
    {
      "cell_type": "code",
      "execution_count": 10,
      "metadata": {
        "colab": {
          "base_uri": "https://localhost:8080/"
        },
        "id": "RxtRlCVCqcHV",
        "outputId": "31ed689a-df33-4d36-dea0-58b0af428ad5"
      },
      "outputs": [
        {
          "output_type": "stream",
          "name": "stdout",
          "text": [
            "==============Test Case 1=============\n",
            "Linked List 1:\n",
            "0-->3-->2-->2\n",
            "\n",
            "Linked List 2:\n",
            "5-->2-->2-->1\n",
            "\n",
            "Linked List 3:\n",
            "4-->3-->1\n",
            "\n",
            "New ID:\n",
            "2-->2-->3-->0-->9-->5-->3\n",
            "\n",
            "==============Test Case 2=============\n",
            "Linked List 1:\n",
            "0-->3-->9-->1\n",
            "\n",
            "Linked List 2:\n",
            "3-->6-->5-->7\n",
            "\n",
            "Linked List 3:\n",
            "2-->4-->3-->8\n",
            "\n",
            "New ID:\n",
            "1-->9-->3-->0-->5-->0-->8-->5\n",
            "\n"
          ]
        }
      ],
      "source": [
        "def idGenerator(head1, head2, head3):\n",
        "  #TO DO\n",
        "  pre = head1\n",
        "  current = pre.next\n",
        "  while current != None:\n",
        "    next_node = current.next\n",
        "    current.next = pre\n",
        "    pre = current\n",
        "    current = next_node\n",
        "  head1.next = None\n",
        "  head1 = pre\n",
        "\n",
        "  node =  head1\n",
        "  prev = None\n",
        "  while node != None:\n",
        "    prev = node\n",
        "    node = node.next\n",
        "\n",
        "  x_node = head2\n",
        "  y_node = head3\n",
        "  while x_node is not None and y_node is not None:\n",
        "    if x_node == None:\n",
        "      new_node = Node((y_node.elem) % 10, None)\n",
        "      prev.next = new_node\n",
        "      prev = new_node\n",
        "\n",
        "    elif y_node == None:\n",
        "      new_node = Node((x_node.elem) % 10, None)\n",
        "      prev.next = new_node\n",
        "      prev = new_node\n",
        "\n",
        "    else:\n",
        "      new_node = Node((x_node.elem + y_node.elem) % 10, None)\n",
        "      prev.next = new_node\n",
        "      prev = new_node\n",
        "      x_node = x_node.next\n",
        "      y_node = y_node.next\n",
        "\n",
        "  return head1\n",
        "\n",
        "\n",
        "print('==============Test Case 1=============')\n",
        "head1 = createList(np.array([0,3,2,2]))\n",
        "head2 = createList(np.array([5,2,2,1]))\n",
        "head3 = createList(np.array([4,3,1]))\n",
        "\n",
        "print(\"Linked List 1:\")\n",
        "printLinkedList(head1)\n",
        "print(\"Linked List 2:\")\n",
        "printLinkedList(head2)\n",
        "print(\"Linked List 3:\")\n",
        "printLinkedList(head3)\n",
        "\n",
        "result = idGenerator(head1, head2, head3)\n",
        "print(\"New ID:\")\n",
        "printLinkedList(result)    #This should print  2 → 2 → 3 → 0 → 9 → 5 → 4 → 2\n",
        "\n",
        "\n",
        "print('==============Test Case 2=============')\n",
        "head1 = createList(np.array([0,3,9,1]))\n",
        "head2 = createList(np.array([3,6,5,7]))\n",
        "head3 = createList(np.array([2,4,3,8]))\n",
        "\n",
        "print(\"Linked List 1:\")\n",
        "printLinkedList(head1)\n",
        "print(\"Linked List 2:\")\n",
        "printLinkedList(head2)\n",
        "print(\"Linked List 3:\")\n",
        "printLinkedList(head3)\n",
        "\n",
        "result = idGenerator(head1, head2, head3)\n",
        "print(\"New ID:\")\n",
        "printLinkedList(result)    #This should print 1 → 9 → 3 → 0 → 5 → 0 → 8 → 5"
      ]
    },
    {
      "cell_type": "code",
      "source": [
        "def idGenerator(head1, head2, head3):\n",
        "  #TO DO\n",
        "  pre = head1\n",
        "  current = pre.next\n",
        "  while current != None:\n",
        "    next_node = current.next\n",
        "    current.next = pre\n",
        "    pre = current\n",
        "    current = next_node\n",
        "  head1.next = None\n",
        "  head1 = pre\n",
        "\n",
        "  node =  head1\n",
        "  prev = None\n",
        "  while node != None:\n",
        "    prev = node\n",
        "    node = node.next\n",
        "\n",
        "  x_node = head2\n",
        "  y_node = head3\n",
        "  while x_node != None or y_node != None:\n",
        "    if x_node == None:\n",
        "      prev.next = y_node\n",
        "      break\n",
        "\n",
        "    elif y_node == None:\n",
        "      prev.next = x_node\n",
        "      break\n",
        "\n",
        "    else:\n",
        "      new_node = Node((x_node.elem + y_node.elem) % 10, None)\n",
        "      prev.next = new_node\n",
        "      prev = new_node\n",
        "      x_node = x_node.next\n",
        "      y_node = y_node.next\n",
        "\n",
        "  return head1\n",
        "\n",
        "\n",
        "print('==============Test Case 1=============')\n",
        "head1 = createList(np.array([0,3,2,2]))\n",
        "head2 = createList(np.array([5,2,2,1]))\n",
        "head3 = createList(np.array([4,3,1]))\n",
        "\n",
        "print(\"Linked List 1:\")\n",
        "printLinkedList(head1)\n",
        "print(\"Linked List 2:\")\n",
        "printLinkedList(head2)\n",
        "print(\"Linked List 3:\")\n",
        "printLinkedList(head3)\n",
        "\n",
        "result = idGenerator(head1, head2, head3)\n",
        "print(\"New ID:\")\n",
        "printLinkedList(result)    #This should print  2 → 2 → 3 → 0 → 9 → 5 → 3 → 1\n",
        "\n",
        "\n",
        "print('==============Test Case 2=============')\n",
        "head1 = createList(np.array([0,3,9,1]))\n",
        "head2 = createList(np.array([3,6,5,7]))\n",
        "head3 = createList(np.array([2,4,3,8]))\n",
        "\n",
        "print(\"Linked List 1:\")\n",
        "printLinkedList(head1)\n",
        "print(\"Linked List 2:\")\n",
        "printLinkedList(head2)\n",
        "print(\"Linked List 3:\")\n",
        "printLinkedList(head3)\n",
        "\n",
        "result = idGenerator(head1, head2, head3)\n",
        "print(\"New ID:\")\n",
        "printLinkedList(result)    #This should print 1 → 9 → 3 → 0 → 5 → 0 → 8 → 5"
      ],
      "metadata": {
        "colab": {
          "base_uri": "https://localhost:8080/"
        },
        "id": "YkY5KH4vI46M",
        "outputId": "19aaccb6-4728-457e-8f21-a06fef6d4953"
      },
      "execution_count": 11,
      "outputs": [
        {
          "output_type": "stream",
          "name": "stdout",
          "text": [
            "==============Test Case 1=============\n",
            "Linked List 1:\n",
            "0-->3-->2-->2\n",
            "\n",
            "Linked List 2:\n",
            "5-->2-->2-->1\n",
            "\n",
            "Linked List 3:\n",
            "4-->3-->1\n",
            "\n",
            "New ID:\n",
            "2-->2-->3-->0-->9-->5-->3-->1\n",
            "\n",
            "==============Test Case 2=============\n",
            "Linked List 1:\n",
            "0-->3-->9-->1\n",
            "\n",
            "Linked List 2:\n",
            "3-->6-->5-->7\n",
            "\n",
            "Linked List 3:\n",
            "2-->4-->3-->8\n",
            "\n",
            "New ID:\n",
            "1-->9-->3-->0-->5-->0-->8-->5\n",
            "\n"
          ]
        }
      ]
    },
    {
      "cell_type": "code",
      "source": [
        "def merge(head1, head2):\n",
        "  #TO DO\n",
        "  x_node = head1\n",
        "  y_node = head2\n",
        "  new_head = Node(None, None)\n",
        "  tail = new_head\n",
        "  while x_node != None and y_node != None:\n",
        "    if x_node.elem < y_node.elem:\n",
        "      tail.next = x_node\n",
        "      tail = x_node\n",
        "      x_node = x_node.next\n",
        "\n",
        "    else:\n",
        "      tail.next = y_node\n",
        "      tail = y_node\n",
        "      y_node = y_node.next\n",
        "\n",
        "    if x_node != None:\n",
        "      tail.next = x_node\n",
        "\n",
        "    elif y_node != None:\n",
        "      tail.next = y_node\n",
        "\n",
        "  new_head = new_head.next\n",
        "\n",
        "  return new_head\n",
        "\n",
        "\n",
        "\n",
        "print('==============Test Case 1=============')\n",
        "head1 = createList(np.array([1,2,6,8,11]))\n",
        "head2 = createList(np.array([3, 4, 5,7,9]))\n",
        "\n",
        "print(\"Linked List 1:\")\n",
        "printLinkedList(head1)\n",
        "print(\"Linked List 2:\")\n",
        "printLinkedList(head2)\n",
        "\n",
        "head = merge(head1, head2)\n",
        "print(\"Merged Linked List:\")\n",
        "printLinkedList(head)    #This should print    1--> 2--> 3--> 4--> 5--> 6--> 7--> 8--> 9--> 11\n",
        "\n",
        "\n",
        "print('==============Test Case 2=============')\n",
        "head1 = createList(np.array([-4, 3, 2, 5]))\n",
        "head2 = createList(np.array([-6, -4, 1]))\n",
        "\n",
        "print(\"Linked List 1:\")\n",
        "printLinkedList(head1)\n",
        "print(\"Linked List 2:\")\n",
        "printLinkedList(head2)\n",
        "\n",
        "head = merge(head1, head2)\n",
        "print(\"Merged Linked List:\")\n",
        "printLinkedList(head)    #This should print   -6--> -4--> -4--> 1--> 3 -->2 -->5\n",
        "\n",
        "\n",
        "print('==============Test Case 3=============')\n",
        "head1 = createList(np.array([-4, -2, 2, 4]))\n",
        "head2 = createList(np.array([-3, 4, 6, 8]))\n",
        "\n",
        "print(\"Linked List 1:\")\n",
        "printLinkedList(head1)\n",
        "print(\"Linked List 2:\")\n",
        "printLinkedList(head2)\n",
        "\n",
        "head = merge(head1, head2)\n",
        "print(\"Merged Linked List:\")\n",
        "printLinkedList(head)    #This should print   -4--> -3--> -2--> 2--> 4--> 4--> 6--> 8"
      ],
      "metadata": {
        "id": "XbgYHXCNP_nV",
        "outputId": "7e4984d5-c8cc-4c12-a5bb-4d34f2d9b6ca",
        "colab": {
          "base_uri": "https://localhost:8080/"
        }
      },
      "execution_count": 12,
      "outputs": [
        {
          "output_type": "stream",
          "name": "stdout",
          "text": [
            "==============Test Case 1=============\n",
            "Linked List 1:\n",
            "1-->2-->6-->8-->11\n",
            "\n",
            "Linked List 2:\n",
            "3-->4-->5-->7-->9\n",
            "\n",
            "Merged Linked List:\n",
            "1-->2-->3-->4-->5-->6-->7-->8-->9-->11\n",
            "\n",
            "==============Test Case 2=============\n",
            "Linked List 1:\n",
            "-4-->3-->2-->5\n",
            "\n",
            "Linked List 2:\n",
            "-6-->-4-->1\n",
            "\n",
            "Merged Linked List:\n",
            "-6-->-4-->-4-->1-->3-->2-->5\n",
            "\n",
            "==============Test Case 3=============\n",
            "Linked List 1:\n",
            "-4-->-2-->2-->4\n",
            "\n",
            "Linked List 2:\n",
            "-3-->4-->6-->8\n",
            "\n",
            "Merged Linked List:\n",
            "-4-->-3-->-2-->2-->4-->4-->6-->8\n",
            "\n"
          ]
        }
      ]
    },
    {
      "cell_type": "code",
      "source": [
        "def removeDuplicates(llist):\n",
        "    # Write your code here\n",
        "  node = llist\n",
        "  while node.next is not None:\n",
        "    next_node = node.next\n",
        "    if node.elem == next_node.elem:\n",
        "        node.next = next_node.next\n",
        "\n",
        "    else:\n",
        "      node = node.next\n",
        "\n",
        "  return llist\n",
        "\n",
        "\n",
        "\n",
        "print('==============Test Case 1=============')\n",
        "conga_line = createList(np.array([10, 10, 20, 20, 20, 30, 40]))\n",
        "print('Original Conga Line: ', end = ' ')\n",
        "printLinkedList(conga_line)\n",
        "returned_value = removeDuplicates(conga_line)\n",
        "output = printLinkedList(returned_value) #10-->20-->30-->40\n",
        "print()\n",
        "print('==============Test Case 2=============')\n",
        "conga_line = createList(np.array([1, 2, 3, 3, 3, 3, 4, 5, 6, 6, 66]))\n",
        "print('Original Conga Line: ', end = ' ')\n",
        "printLinkedList(conga_line)\n",
        "returned_value = removeDuplicates(conga_line)\n",
        "output = printLinkedList(returned_value) #1-->2-->3-->4-->5-->6-->66\n"
      ],
      "metadata": {
        "colab": {
          "base_uri": "https://localhost:8080/"
        },
        "id": "8Pcc7C4WoHy7",
        "outputId": "7de69b5f-dd0d-434d-943f-fabf9eb2a6ce"
      },
      "execution_count": 13,
      "outputs": [
        {
          "output_type": "stream",
          "name": "stdout",
          "text": [
            "==============Test Case 1=============\n",
            "Original Conga Line:  10-->10-->20-->20-->20-->30-->40\n",
            "\n",
            "10-->20-->30-->40\n",
            "\n",
            "\n",
            "==============Test Case 2=============\n",
            "Original Conga Line:  1-->2-->3-->3-->3-->3-->4-->5-->6-->6-->66\n",
            "\n",
            "1-->2-->3-->4-->5-->6-->66\n",
            "\n"
          ]
        }
      ]
    },
    {
      "cell_type": "code",
      "source": [
        "def removeDuplicates(llist):\n",
        "    # Write your code here\n",
        "  node = llist\n",
        "  dummy_head = Node(None)\n",
        "  tail = dummy_head\n",
        "  while node.next is not None:\n",
        "    next_node = node.next\n",
        "    if next_node.elem % 2 == 0:\n",
        "        tail.next = next_node\n",
        "        tail = next_node\n",
        "        node.next = next_node.next\n",
        "\n",
        "\n",
        "    else:\n",
        "      node = node.next\n",
        "\n",
        "  if llist.elem %2 == 0:\n",
        "    return llist.next\n",
        "\n",
        "  return dummy_head\n",
        "\n",
        "\n",
        "\n",
        "print('==============Test Case 1=============')\n",
        "conga_line = createList(np.array([2, 2, 3, 4, 5, 6, 7]))\n",
        "print('Original Conga Line: ', end = ' ')\n",
        "printLinkedList(conga_line)\n",
        "returned_value = removeDuplicates(conga_line)\n",
        "output = printLinkedList(returned_value) #10-->20-->30-->40\n",
        "print()\n",
        "print('==============Test Case 2=============')\n",
        "conga_line = createList(np.array([1, 2, 3, 3, 3, 3, 4, 5, 6, 6, 66]))\n",
        "print('Original Conga Line: ', end = ' ')\n",
        "printLinkedList(conga_line)\n",
        "returned_value = removeDuplicates(conga_line)\n",
        "output = printLinkedList(returned_value) #1-->2-->3-->4-->5-->6-->66"
      ],
      "metadata": {
        "colab": {
          "base_uri": "https://localhost:8080/"
        },
        "id": "FAxh4SqHyDCA",
        "outputId": "188fa06a-3878-4203-b49f-e96744e7177a"
      },
      "execution_count": 14,
      "outputs": [
        {
          "output_type": "stream",
          "name": "stdout",
          "text": [
            "==============Test Case 1=============\n",
            "Original Conga Line:  2-->2-->3-->4-->5-->6-->7\n",
            "\n",
            "3-->5-->7\n",
            "\n",
            "\n",
            "==============Test Case 2=============\n",
            "Original Conga Line:  1-->2-->3-->3-->3-->3-->4-->5-->6-->6-->66\n",
            "\n",
            "None-->2-->4-->6-->6-->66\n",
            "\n"
          ]
        }
      ]
    },
    {
      "cell_type": "code",
      "source": [
        "def removeDuplicates(llist):\n",
        "    # Write your code here\n",
        "  node = llist\n",
        "  dummy_head = Node(None)\n",
        "  tail = dummy_head\n",
        "  while node.next is not None:\n",
        "    next_node = node.next\n",
        "    if next_node.elem  == 6:\n",
        "        node.next = next_node.next\n",
        "\n",
        "\n",
        "    else:\n",
        "      node = node.next\n",
        "\n",
        "\n",
        "\n",
        "  return llist\n",
        "\n",
        "\n",
        "\n",
        "print('==============Test Case 1=============')\n",
        "conga_line = createList(np.array([2, 2, 3, 4, 5, 6, 7]))\n",
        "print('Original Conga Line: ', end = ' ')\n",
        "printLinkedList(conga_line)\n",
        "returned_value = removeDuplicates(conga_line)\n",
        "output = printLinkedList(returned_value) #10-->20-->30-->40\n",
        "print()\n",
        "print('==============Test Case 2=============')\n",
        "conga_line = createList(np.array([1, 2, 3, 3, 3, 3, 4, 5, 6, 6, 66]))\n",
        "print('Original Conga Line: ', end = ' ')\n",
        "printLinkedList(conga_line)\n",
        "returned_value = removeDuplicates(conga_line)\n",
        "output = printLinkedList(returned_value) #1-->2-->3-->4-->5-->6-->66"
      ],
      "metadata": {
        "colab": {
          "base_uri": "https://localhost:8080/"
        },
        "id": "1osBPwGDG_Td",
        "outputId": "51e6c7a4-9c2b-40a1-fb30-2b2bf2e31a72"
      },
      "execution_count": 16,
      "outputs": [
        {
          "output_type": "stream",
          "name": "stdout",
          "text": [
            "==============Test Case 1=============\n",
            "Original Conga Line:  2-->2-->3-->4-->5-->6-->7\n",
            "\n",
            "2-->2-->3-->4-->5-->7\n",
            "\n",
            "\n",
            "==============Test Case 2=============\n",
            "Original Conga Line:  1-->2-->3-->3-->3-->3-->4-->5-->6-->6-->66\n",
            "\n",
            "1-->2-->3-->3-->3-->3-->4-->5-->66\n",
            "\n"
          ]
        }
      ]
    }
  ],
  "metadata": {
    "colab": {
      "provenance": [],
      "include_colab_link": true
    },
    "kernelspec": {
      "display_name": "Python 3",
      "name": "python3"
    },
    "language_info": {
      "name": "python"
    }
  },
  "nbformat": 4,
  "nbformat_minor": 0
}