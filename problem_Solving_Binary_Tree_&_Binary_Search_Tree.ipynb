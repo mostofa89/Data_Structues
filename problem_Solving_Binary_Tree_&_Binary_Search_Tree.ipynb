{
  "cells": [
    {
      "cell_type": "markdown",
      "metadata": {
        "id": "view-in-github",
        "colab_type": "text"
      },
      "source": [
        "<a href=\"https://colab.research.google.com/github/mostofa89/Data_Structues/blob/main/problem_Solving_Binary_Tree_%26_Binary_Search_Tree.ipynb\" target=\"_parent\"><img src=\"https://colab.research.google.com/assets/colab-badge.svg\" alt=\"Open In Colab\"/></a>"
      ]
    },
    {
      "cell_type": "code",
      "execution_count": null,
      "metadata": {
        "id": "D6vC520OPeTa"
      },
      "outputs": [],
      "source": [
        "import numpy as np"
      ]
    },
    {
      "cell_type": "code",
      "source": [
        "class BTNode:\n",
        "  def __init__(self, elem):\n",
        "    self.elem = elem\n",
        "    self.right = None\n",
        "    self.left = None"
      ],
      "metadata": {
        "id": "n-nQxkvznL7W"
      },
      "execution_count": null,
      "outputs": []
    },
    {
      "cell_type": "code",
      "execution_count": null,
      "metadata": {
        "id": "UDTKlm4-PfNM"
      },
      "outputs": [],
      "source": [
        "def inorder(root):\n",
        "  if root == None:\n",
        "    return\n",
        "\n",
        "  inorder(root.left)\n",
        "  print(root.elem, end = ' ')\n",
        "  inorder(root.right)"
      ]
    },
    {
      "cell_type": "code",
      "execution_count": null,
      "metadata": {
        "id": "Rtc22SPzPgzM",
        "colab": {
          "base_uri": "https://localhost:8080/"
        },
        "outputId": "ed40286a-b890-4e1a-a57f-4d8066d2d88b"
      },
      "outputs": [
        {
          "output_type": "stream",
          "name": "stdout",
          "text": [
            "H D B E A I F J C G k "
          ]
        }
      ],
      "source": [
        "def tree_construction(arr, i = 1):\n",
        "  if i>=len(arr) or arr[i] == None:\n",
        "    return None\n",
        "\n",
        "  p = BTNode(arr[i])\n",
        "  p.left = tree_construction(arr, 2*i)\n",
        "  p.right = tree_construction(arr, 2*i+1)\n",
        "  return p\n",
        "\n",
        "\n",
        "root2 = tree_construction([None, 'A', 'B', 'C', 'D', 'E', 'F', 'G', 'H', None, None, None, 'I', 'J', None, 'k'])\n",
        "inorder(root2)"
      ]
    },
    {
      "cell_type": "code",
      "source": [
        "def preOrder(root):\n",
        "  if root == None:\n",
        "    return\n",
        "\n",
        "  print(root.elem, end = \" \")\n",
        "  preOrder(root.left)\n",
        "  preOrder(root.right)"
      ],
      "metadata": {
        "id": "cLqLuzei2ok3"
      },
      "execution_count": null,
      "outputs": []
    },
    {
      "cell_type": "code",
      "source": [
        "def postOrder(root):\n",
        "  if root == None:\n",
        "    return\n",
        "\n",
        "  postOrder(root.left)\n",
        "  postOrder(root.right)\n",
        "  print(root.elem, end = \" \")"
      ],
      "metadata": {
        "id": "LQm4jg_-5p8T"
      },
      "execution_count": null,
      "outputs": []
    },
    {
      "cell_type": "code",
      "source": [
        "nums = [None, 17, 20, 8, 30, 18, None, 28, None, 3, None, 5, None, None, 1, -4]\n",
        "root = tree_construction(nums)\n",
        "preOrder(root)\n",
        "print()\n",
        "postOrder(root)"
      ],
      "metadata": {
        "colab": {
          "base_uri": "https://localhost:8080/"
        },
        "id": "IbizSph02HIL",
        "outputId": "d88c697e-6b0d-4a52-d12c-39a5f383700f"
      },
      "execution_count": null,
      "outputs": [
        {
          "output_type": "stream",
          "name": "stdout",
          "text": [
            "17 20 30 3 18 5 8 28 1 -4 \n",
            "3 30 5 18 20 1 -4 28 8 17 "
          ]
        }
      ]
    },
    {
      "cell_type": "markdown",
      "metadata": {
        "id": "S2nNCJNhPqGq"
      },
      "source": [
        "Task 1"
      ]
    },
    {
      "cell_type": "code",
      "execution_count": null,
      "metadata": {
        "id": "zbBHU3FoPieb",
        "colab": {
          "base_uri": "https://localhost:8080/"
        },
        "outputId": "1d30ea9b-213b-40c3-80e9-cea557ea0d18"
      },
      "outputs": [
        {
          "output_type": "stream",
          "name": "stdout",
          "text": [
            "Given Tree Inorder Traversal:  40 20 60 10 30 \n",
            "Mirrored Tree Inorder Traversal:  30 10 60 20 40 "
          ]
        }
      ],
      "source": [
        "def convert_mirror(root):\n",
        "  #To Do\n",
        "  if root != None:\n",
        "    left = root.left\n",
        "    root.left = convert_mirror(root.right)\n",
        "    root.right = convert_mirror(left)\n",
        "\n",
        "  return root\n",
        "\n",
        "\n",
        "#DRIVER CODE\n",
        "root = BTNode(10)\n",
        "n1 = BTNode(20)\n",
        "n2 = BTNode(30)\n",
        "n3 = BTNode(40)\n",
        "n4 = BTNode(60)\n",
        "\n",
        "root.left = n1\n",
        "root.right = n2\n",
        "\n",
        "n1.left = n3\n",
        "n1.right = n4\n",
        "\n",
        "print('Given Tree Inorder Traversal: ', end = ' ')\n",
        "inorder(root) #Given Tree Inorder Traversal:  40 20 60 10 30\n",
        "print()\n",
        "\n",
        "root2 = convert_mirror(root)\n",
        "print('Mirrored Tree Inorder Traversal: ', end = ' ')\n",
        "inorder(root2) #Mirrored Tree Inorder Traversal:  30 10 60 20 40"
      ]
    },
    {
      "cell_type": "markdown",
      "metadata": {
        "id": "c-TBf3m0PrtK"
      },
      "source": [
        "Task 2"
      ]
    },
    {
      "cell_type": "code",
      "execution_count": null,
      "metadata": {
        "id": "lsuxinlBPmji",
        "colab": {
          "base_uri": "https://localhost:8080/"
        },
        "outputId": "67162489-e328-4c23-ab10-8ad232c07d85"
      },
      "outputs": [
        {
          "output_type": "stream",
          "name": "stdout",
          "text": [
            "Given Tree Inorder Traversal:  3 9 -5 4 2 7 \n",
            "Level Wise Smallest Value:  {0: 4, 1: 2, 2: -5}\n"
          ]
        }
      ],
      "source": [
        "def smallest_level(root, level = {}, i = 0):\n",
        "  #To Do\n",
        "  h = __height(root)\n",
        "  for i in range(h + 1):\n",
        "    x = currentLevel(root, i)\n",
        "    level[i] = x\n",
        "\n",
        "  return level\n",
        "\n",
        "def currentLevel(root, level):\n",
        "  if root == None:\n",
        "    return 0\n",
        "\n",
        "  if level == 0:\n",
        "    return root.elem\n",
        "\n",
        "  else:\n",
        "    left = currentLevel(root.left, level - 1, )\n",
        "    right = currentLevel(root.right, level - 1)\n",
        "\n",
        "    return min(left, right)\n",
        "\n",
        "\n",
        "def __height(root):\n",
        "  if root == None:\n",
        "    return -1\n",
        "\n",
        "  left = 1 + __height(root.left)\n",
        "  right = 1 + __height(root.right)\n",
        "  maxheight = left\n",
        "  if right > maxheight:\n",
        "    maxheight = right\n",
        "  return maxheight\n",
        "\n",
        "#DRIVER CODE\n",
        "root = tree_construction([None, 4,9,2,3,-5,None,7])\n",
        "print('Given Tree Inorder Traversal: ', end = ' ')\n",
        "inorder(root) #Given Tree Inorder Traversal:  3 9 5 4 2 7\n",
        "print()\n",
        "print('Level Wise Smallest Value: ', end = ' ')\n",
        "print(smallest_level(root)) #Level Wise Smallest Value:  {0: 4, 1: 2, 2: -5}"
      ]
    },
    {
      "cell_type": "code",
      "source": [
        "def smallest_level(root):\n",
        "  #To Do\n",
        "  return currentLevel(root, {}, 0)\n",
        "\n",
        "\n",
        "def currentLevel(root, level, key):\n",
        "  if root == None:\n",
        "    return level\n",
        "\n",
        "  if key not in level:\n",
        "    level[key] = root.elem\n",
        "\n",
        "  else:\n",
        "    level[key] = min(level[key], root.elem)\n",
        "\n",
        "  left = currentLevel(root.left, level, key + 1)\n",
        "  right = currentLevel(root.right, level, key + 1)\n",
        "  return level\n",
        "\n",
        "\n",
        "root = tree_construction([None, 4,9,2,3,-5,None,7])\n",
        "print('Given Tree Inorder Traversal: ', end = ' ')\n",
        "inorder(root) #Given Tree Inorder Traversal:  3 9 5 4 2 7\n",
        "print()\n",
        "print('Level Wise Smallest Value: ', end = ' ')\n",
        "print(smallest_level(root)) #Level Wise Smallest Value:  {0: 4, 1: 2, 2: -5}"
      ],
      "metadata": {
        "colab": {
          "base_uri": "https://localhost:8080/"
        },
        "id": "9oqJnAC4NEwa",
        "outputId": "9e4068e6-ff99-4325-a312-73c5a2ff8b7d"
      },
      "execution_count": null,
      "outputs": [
        {
          "output_type": "stream",
          "name": "stdout",
          "text": [
            "Given Tree Inorder Traversal:  3 9 -5 4 2 7 \n",
            "Level Wise Smallest Value:  {0: 4, 1: 2, 2: -5}\n"
          ]
        }
      ]
    },
    {
      "cell_type": "code",
      "source": [
        "def smallest_level(root):\n",
        "  #To Do\n",
        "  return currentLevel(root, {}, 0)\n",
        "\n",
        "\n",
        "def currentLevel(root, level, key):\n",
        "  if root == None:\n",
        "    return level\n",
        "\n",
        "  if key not in level:\n",
        "    level[key] = root.elem\n",
        "\n",
        "  else:\n",
        "    level[key] = min(level[key], root.elem)\n",
        "\n",
        "  left = currentLevel(root.left, level, key + 1)\n",
        "  right = currentLevel(root.right, level, key + 1)\n",
        "  return level\n",
        "\n",
        "\n",
        "root = tree_construction([None, 4,9,2,3,-5,None,7])\n",
        "print('Given Tree Inorder Traversal: ', end = ' ')\n",
        "inorder(root) #Given Tree Inorder Traversal:  3 9 5 4 2 7\n",
        "print()\n",
        "print('Level Wise Smallest Value: ', end = ' ')\n",
        "print(smallest_level(root)) #Level Wise Smallest Value:  {0: 4, 1: 2, 2: -5}"
      ],
      "metadata": {
        "colab": {
          "base_uri": "https://localhost:8080/"
        },
        "id": "TwcnE4TraJLw",
        "outputId": "9a10a876-ba0b-46be-ea1c-37b08cf9a3ba"
      },
      "execution_count": null,
      "outputs": [
        {
          "output_type": "stream",
          "name": "stdout",
          "text": [
            "Given Tree Inorder Traversal:  3 9 -5 4 2 7 \n",
            "Level Wise Smallest Value:  {0: 4, 1: 2, 2: -5}\n"
          ]
        }
      ]
    },
    {
      "cell_type": "markdown",
      "metadata": {
        "id": "7r3lH3aWPz2d"
      },
      "source": [
        "Task 3"
      ]
    },
    {
      "cell_type": "code",
      "execution_count": null,
      "metadata": {
        "id": "zFwP64v4Pu6d",
        "colab": {
          "base_uri": "https://localhost:8080/"
        },
        "outputId": "b154af62-0e8e-481d-fb6d-f454a2c776b3"
      },
      "outputs": [
        {
          "output_type": "stream",
          "name": "stdout",
          "text": [
            "Given Tree Inorder Traversal:  4 8 10 12 14 20 22 \n",
            "Inorder predecessor of node 12: 10\n"
          ]
        }
      ],
      "source": [
        "def inorder_predecessor(root, x):\n",
        "  if x.left != None:\n",
        "    return maxval(x.left)\n",
        "\n",
        "  return BTNode(None)\n",
        "\n",
        "  predecessor = None\n",
        "  current = root\n",
        "  while current != None:\n",
        "    if x.elem > current.elem:\n",
        "      predecessor = current\n",
        "      current = current.right\n",
        "    if x.elem < current.elem:\n",
        "      current = current.left\n",
        "    else:\n",
        "      break\n",
        "\n",
        "  return predecessor\n",
        "\n",
        "def maxval(root):\n",
        "  if root.right == None:\n",
        "    return root\n",
        "\n",
        "  return maxval(root.right)\n",
        "\n",
        "\n",
        "#DRIVER CODE\n",
        "root = BTNode(20)\n",
        "n1 = BTNode(8)\n",
        "n2 = BTNode(22)\n",
        "n3 = BTNode(4)\n",
        "n4 = BTNode(12)\n",
        "n5 = BTNode(10)\n",
        "n6 = BTNode(14)\n",
        "\n",
        "root.left = n1\n",
        "root.right = n2\n",
        "\n",
        "n1.left = n3\n",
        "n1.right = n4\n",
        "\n",
        "n4.left = n5\n",
        "n4.right = n6\n",
        "\n",
        "print('Given Tree Inorder Traversal: ', end = ' ')\n",
        "inorder(root) #Given Tree Inorder Traversal:  4 8 10 12 14 20 22\n",
        "print()\n",
        "\n",
        "x = n4\n",
        "print(f'Inorder predecessor of node {x.elem}: {inorder_predecessor(root, x).elem}') #Inorder predecessor of node 12: 10"
      ]
    },
    {
      "cell_type": "markdown",
      "metadata": {
        "id": "t3IGW4OaP8Vy"
      },
      "source": [
        "Task 4"
      ]
    },
    {
      "cell_type": "code",
      "execution_count": null,
      "metadata": {
        "id": "m4E9_E8PThk6"
      },
      "outputs": [],
      "source": [
        "def sumTree(root):\n",
        "  h = height(root)\n",
        "  sum = current_level(root, h, h)\n",
        "\n",
        "  return sum\n",
        "\n",
        "\n",
        "def height(root):\n",
        "  if root == None:\n",
        "    return -1\n",
        "\n",
        "  left = height(root.left)\n",
        "  right = height(root.right)\n",
        "  maxheight = left\n",
        "  if maxheight < right:\n",
        "    maxheight = right\n",
        "\n",
        "\n",
        "  return 1 + maxheight\n",
        "\n",
        "\n",
        "def current_level(root, level, h):\n",
        "  if root == None:\n",
        "    return 0\n",
        "\n",
        "  if level == h:\n",
        "    return root.elem + current_level(root.left, level - 1, h) + current_level(root.right, level - 1, h)\n",
        "\n",
        "  return (root.elem % (h - level)) + current_level(root.left, level - 1, h) + current_level(root.right, level - 1, h)\n",
        "  # sum = leftSum % level + rightSum % level\n",
        "\n",
        "\n",
        "\n",
        "  # To DO\n",
        "  #you can declare as many helper function with extra parameters as you need .\n",
        "  #You can not modify the parameters of sumTree or modify any part of the given code."
      ]
    },
    {
      "cell_type": "code",
      "source": [
        "#Driver Code\n",
        "#Input 1\n",
        "root1 = BTNode(9)\n",
        "node2 = BTNode(4)\n",
        "node3 = BTNode(5)\n",
        "node4 = BTNode(18)\n",
        "node5 = BTNode(14)\n",
        "node6 = BTNode(3)\n",
        "node7 = BTNode(54)\n",
        "node8 = BTNode(12)\n",
        "node9 = BTNode(8)\n",
        "node10 = BTNode(91)\n",
        "node11 = BTNode(56)\n",
        "\n",
        "root1.left = node2\n",
        "root1.right = node3\n",
        "\n",
        "node2.left = node4\n",
        "\n",
        "node3.left = node5\n",
        "node3.right = node6\n",
        "\n",
        "node4.left = node7\n",
        "node4.right = node8\n",
        "\n",
        "node5.left = node9\n",
        "\n",
        "node8.left = node10\n",
        "node8.right = node11\n",
        "\n",
        "print(sumTree(root1))"
      ],
      "metadata": {
        "colab": {
          "base_uri": "https://localhost:8080/"
        },
        "id": "hHia5c7PxwYS",
        "outputId": "36696ce2-0056-4719-804d-f109ccc36a86"
      },
      "execution_count": null,
      "outputs": [
        {
          "output_type": "stream",
          "name": "stdout",
          "text": [
            "15\n"
          ]
        }
      ]
    },
    {
      "cell_type": "code",
      "source": [
        "def sumTree(root):\n",
        "  # h = height(root)\n",
        "  sum = current_level(root, 0)\n",
        "\n",
        "  return sum\n",
        "\n",
        "\n",
        "\n",
        "def current_level(root, level):\n",
        "  if root == None:\n",
        "    return 0\n",
        "\n",
        "  if level == 0:\n",
        "    return root.elem + current_level(root.left, level + 1) + current_level(root.right, level + 1)\n",
        "\n",
        "  else:\n",
        "    return (root.elem % level) + current_level(root.left, level + 1) + current_level(root.right, level + 1)\n",
        "\n",
        "\n",
        "\n",
        "  # To DO\n",
        "  #you can declare as many helper function with extra parameters as you need .\n",
        "  #You can not modify the parameters of sumTree or modify any part of the given code.\n",
        "\n",
        "  #Driver Code\n",
        "#Input 1\n",
        "root1 = BTNode(9)\n",
        "node2 = BTNode(4)\n",
        "node3 = BTNode(5)\n",
        "node4 = BTNode(18)\n",
        "node5 = BTNode(14)\n",
        "node6 = BTNode(3)\n",
        "node7 = BTNode(54)\n",
        "node8 = BTNode(12)\n",
        "node9 = BTNode(8)\n",
        "node10 = BTNode(91)\n",
        "node11 = BTNode(56)\n",
        "\n",
        "root1.left = node2\n",
        "root1.right = node3\n",
        "\n",
        "node2.left = node4\n",
        "\n",
        "node3.left = node5\n",
        "node3.right = node6\n",
        "\n",
        "node4.left = node7\n",
        "node4.right = node8\n",
        "\n",
        "node5.left = node9\n",
        "\n",
        "node8.left = node10\n",
        "node8.right = node11\n",
        "\n",
        "print(sumTree(root1))"
      ],
      "metadata": {
        "colab": {
          "base_uri": "https://localhost:8080/"
        },
        "id": "zd6K7Ao4Qqg2",
        "outputId": "6033d3fd-ec6e-45ec-9cc2-ed194050cd78"
      },
      "execution_count": null,
      "outputs": [
        {
          "output_type": "stream",
          "name": "stdout",
          "text": [
            "15\n"
          ]
        }
      ]
    },
    {
      "cell_type": "markdown",
      "source": [
        "Task 5\n"
      ],
      "metadata": {
        "id": "8GJeWub8Ki1X"
      }
    },
    {
      "cell_type": "code",
      "source": [
        "def swap_child(root, level, M):\n",
        "  #To Do\n",
        "  if root == None:\n",
        "    return root\n",
        "\n",
        "  if level < M:\n",
        "    left = root.left\n",
        "    right = root.right\n",
        "\n",
        "    root.left = right\n",
        "    root.right = left\n",
        "\n",
        "  swap_child(root.left, level + 1, M)\n",
        "  swap_child(root.right, level + 1, M)\n",
        "  return root\n",
        "\n",
        "\n",
        "\n",
        "#Driver Code\n",
        "root = tree_construction([None, 'A', 'B', 'C', 'D', 'E', None, 'F', 'G', 'H',  'I', None, None, None, 'J'])\n",
        "#Write other nodes by yourself from the given tree of Doc File\n",
        "\n",
        "\n",
        "print('Given Tree Inorder Traversal: ', end = ' ')\n",
        "inorder(root)   #Given Tree Inorder Traversal: G D H B I E A C J F\n",
        "print()\n",
        "\n",
        "root2 = swap_child(root, 0, 2)\n",
        "print('Swapped Tree Inorder Traversal: ', end = ' ')\n",
        "inorder(root2)  #Swapped Tree Inorder Traversal: J F C A I E B G D H"
      ],
      "metadata": {
        "id": "0Rb_m6FRKktN",
        "colab": {
          "base_uri": "https://localhost:8080/"
        },
        "outputId": "4b76bcc1-e5ef-4dea-cfd7-213237f873a3"
      },
      "execution_count": null,
      "outputs": [
        {
          "output_type": "stream",
          "name": "stdout",
          "text": [
            "Given Tree Inorder Traversal:  G D H B I E A C J F \n",
            "Swapped Tree Inorder Traversal:  J F C A I E B G D H "
          ]
        }
      ]
    },
    {
      "cell_type": "markdown",
      "source": [
        "Task 6"
      ],
      "metadata": {
        "id": "VrHklDOEKlHf"
      }
    },
    {
      "cell_type": "code",
      "source": [
        "def subtract_summation(root):\n",
        "  #To Do\n",
        "  return __leftrightSum(root.left) -  __leftrightSum(root.right)\n",
        "\n",
        "def __leftrightSum(root):\n",
        "  if root == None:\n",
        "    return 0\n",
        "\n",
        "  return root.elem + __leftrightSum(root.left) + __leftrightSum(root.right)\n",
        "\n",
        "#Driver Code\n",
        "root = BTNode(71)\n",
        "node1 = BTNode(27)\n",
        "node2 = BTNode(62)\n",
        "node3 = BTNode(80)\n",
        "node4 = BTNode(75)\n",
        "node5 = BTNode(41)\n",
        "node6 = BTNode(3)\n",
        "node7 = BTNode(87)\n",
        "node8 = BTNode(56)\n",
        "node9 = BTNode(19)\n",
        "node10 = BTNode(89)\n",
        "root.left = node1\n",
        "root.right = node2\n",
        "node1.left = node3\n",
        "node1.right = node4\n",
        "node3.left = node7\n",
        "node3.right = node8\n",
        "node2.left = node5\n",
        "node2.right = node6\n",
        "node6.left = node9\n",
        "node6.right = node10\n",
        "#Write other nodes by yourself from the given tree of Doc File\n",
        "\n",
        "\n",
        "print(subtract_summation(root)) #This should print 111"
      ],
      "metadata": {
        "id": "dMXJ2qxkNn_F",
        "colab": {
          "base_uri": "https://localhost:8080/"
        },
        "outputId": "6489d990-ffae-4931-af63-5f2e3ee6ab5a"
      },
      "execution_count": null,
      "outputs": [
        {
          "output_type": "stream",
          "name": "stdout",
          "text": [
            "111\n"
          ]
        }
      ]
    },
    {
      "cell_type": "markdown",
      "metadata": {
        "id": "SBD-0xoZP_ni"
      },
      "source": [
        "Bonus Task"
      ]
    },
    {
      "cell_type": "code",
      "source": [
        "def level_sum(root):\n",
        "  #To Do\n",
        "  depth = __depth(root)\n",
        "  sum = 0\n",
        "  for i in range(depth + 1):\n",
        "    x = __currentLvel(root, i)\n",
        "    if i %2 == 0:\n",
        "      sum += (-x)\n",
        "\n",
        "    else:\n",
        "      sum += x\n",
        "\n",
        "  return sum\n",
        "\n",
        "\n",
        "def __depth(root):\n",
        "  if root == None:\n",
        "    return -1\n",
        "\n",
        "  left = __depth(root.left)\n",
        "  right = __depth(root.right)\n",
        "  maxdepth = left\n",
        "  if maxdepth < right:\n",
        "    maxdepth = right\n",
        "\n",
        "  return 1 + maxdepth\n",
        "\n",
        "\n",
        "def __currentLvel(root, level):\n",
        "  if root == None:\n",
        "    return 0\n",
        "\n",
        "  if level == 0:\n",
        "    return root.elem\n",
        "\n",
        "  else:\n",
        "    leftsum = __currentLvel(root.left, level - 1)\n",
        "    rightsum = __currentLvel(root.right, level - 1)\n",
        "    return leftsum  + rightsum\n",
        "\n",
        "\n",
        "#DRIVER CODE\n",
        "root = BTNode(1)\n",
        "n2 = BTNode(2)\n",
        "n3 = BTNode(3)\n",
        "n4 = BTNode(4)\n",
        "n5 = BTNode(5)\n",
        "n6 = BTNode(6)\n",
        "n7 = BTNode(7)\n",
        "n8 = BTNode(8)\n",
        "root.left = n2\n",
        "root.right = n3\n",
        "\n",
        "n2.left = n4\n",
        "n3.left = n5\n",
        "n3.right = n6\n",
        "\n",
        "n5.left = n7\n",
        "n5.right = n8\n",
        "\n",
        "\n",
        "print(level_sum(root)) #This should print 4"
      ],
      "metadata": {
        "id": "U_LYhaRIxZCb",
        "colab": {
          "base_uri": "https://localhost:8080/"
        },
        "outputId": "ce42ec0c-f927-41e1-d3b7-4e0bcf78c284"
      },
      "execution_count": null,
      "outputs": [
        {
          "output_type": "stream",
          "name": "stdout",
          "text": [
            "4\n"
          ]
        }
      ]
    },
    {
      "cell_type": "code",
      "source": [
        "def level_sum(root):\n",
        "  #To Do\n",
        "\n",
        "  return __currentLvel(root, 0)\n",
        "\n",
        "\n",
        "def __currentLvel(root, level):\n",
        "  if root == None:\n",
        "    return 0\n",
        "\n",
        "  return root.elem * ((-1)** (level + 1)) + __currentLvel(root.left, level + 1) + __currentLvel(root.right, level + 1)\n",
        "\n",
        "#DRIVER CODE\n",
        "root = BTNode(1)\n",
        "n2 = BTNode(2)\n",
        "n3 = BTNode(3)\n",
        "n4 = BTNode(4)\n",
        "n5 = BTNode(5)\n",
        "n6 = BTNode(6)\n",
        "n7 = BTNode(7)\n",
        "n8 = BTNode(8)\n",
        "root.left = n2\n",
        "root.right = n3\n",
        "\n",
        "n2.left = n4\n",
        "n3.left = n5\n",
        "n3.right = n6\n",
        "\n",
        "n5.left = n7\n",
        "n5.right = n8\n",
        "\n",
        "\n",
        "print(level_sum(root)) #This should print 4"
      ],
      "metadata": {
        "colab": {
          "base_uri": "https://localhost:8080/"
        },
        "id": "qnTwu3R3De06",
        "outputId": "abb5d3fe-0f88-43b1-db91-2a796f680204"
      },
      "execution_count": null,
      "outputs": [
        {
          "output_type": "stream",
          "name": "stdout",
          "text": [
            "4\n"
          ]
        }
      ]
    },
    {
      "cell_type": "code",
      "source": [
        "def levelOrderTraversal(root):\n",
        "    h = height(root)  # Get the height of the tree\n",
        "    # Traverse each level from 0 to h\n",
        "    for level in range(h + 1):\n",
        "        print_level(root, level)  # Print all nodes at the current level\n",
        "        print()  # Print newline for each level\n",
        "\n",
        "# Function to calculate the height of the tree\n",
        "def height(node):\n",
        "    if node is None:\n",
        "        return -1  # Base case: empty tree has height -1\n",
        "    left_height = height(node.left)\n",
        "    right_height = height(node.right)\n",
        "    return 1 + max(left_height, right_height)  # Height is 1 + the maximum height of the subtrees\n",
        "\n",
        "# Function to print nodes at a specific level\n",
        "def print_level(node, level):\n",
        "    if node is None:\n",
        "        return\n",
        "    if level == 0:\n",
        "        print(node.elem, end=\" \")  # Print the node if it's at the desired level\n",
        "    else:\n",
        "        # Recursively call for the left and right subtrees with level-1\n",
        "        print_level(node.left, level - 1)\n",
        "        print_level(node.right, level - 1)\n",
        "\n",
        "# Test Binary Tree from the previous example\n",
        "root1 = BTNode(9)  # Level 0\n",
        "node2 = BTNode(4)  # Level 1\n",
        "node3 = BTNode(5)  # Level 1\n",
        "node4 = BTNode(18) # Level 2\n",
        "node5 = BTNode(14) # Level 2\n",
        "node6 = BTNode(3)  # Level 2\n",
        "node7 = BTNode(54) # Level 3\n",
        "node8 = BTNode(12) # Level 3\n",
        "node9 = BTNode(8)  # Level 3\n",
        "node10 = BTNode(91) # Level 4\n",
        "node11 = BTNode(56) # Level 4\n",
        "\n",
        "root1.left = node2\n",
        "root1.right = node3\n",
        "\n",
        "node2.left = node4\n",
        "\n",
        "node3.left = node5\n",
        "node3.right = node6\n",
        "\n",
        "node4.left = node7\n",
        "node4.right = node8\n",
        "\n",
        "node5.left = node9\n",
        "\n",
        "node8.left = node10\n",
        "node8.right = node11\n",
        "\n",
        "# Perform level order traversal using height\n",
        "levelOrderTraversal(root1)"
      ],
      "metadata": {
        "colab": {
          "base_uri": "https://localhost:8080/"
        },
        "id": "q3nDB7u0e64-",
        "outputId": "f126993a-6579-45b3-d4a1-afa058212cc5"
      },
      "execution_count": null,
      "outputs": [
        {
          "output_type": "stream",
          "name": "stdout",
          "text": [
            "9 \n",
            "4 5 \n",
            "18 14 3 \n",
            "54 12 8 \n",
            "91 56 \n"
          ]
        }
      ]
    },
    {
      "cell_type": "code",
      "source": [
        "def are_identical(root1, root2):\n",
        "  if root1 == None and root2 == None:\n",
        "    return True\n",
        "\n",
        "  if root1 == None or root2 == None:\n",
        "    return False\n",
        "\n",
        "  if root1.elem != root2.elem:\n",
        "    return False\n",
        "\n",
        "  return are_identical(root1.left, root2.left) and are_identical(root1.right, root2.right)\n",
        "\n",
        "\n",
        "root1 = tree_construction([None, 1, 2, 3])\n",
        "root2 = root2 = tree_construction([None, 1, 3, 3])\n",
        "print(are_identical(root1, root2))"
      ],
      "metadata": {
        "colab": {
          "base_uri": "https://localhost:8080/"
        },
        "id": "ZbXmq9EXSuPD",
        "outputId": "d0b90f79-921b-42e2-b23f-72b9aa2dad8c"
      },
      "execution_count": null,
      "outputs": [
        {
          "output_type": "stream",
          "name": "stdout",
          "text": [
            "False\n"
          ]
        }
      ]
    },
    {
      "cell_type": "code",
      "source": [
        "def is_balance(root):\n",
        "  if root == None:\n",
        "    return 1\n",
        "\n",
        "  if abs(height(root.left) - height(root.right)) <= 1:\n",
        "    return is_balance(root.left) and is_balance(root.right)\n",
        "\n",
        "\n",
        "  elif abs(height(root.left) - height(root.right)) > 1:\n",
        "    return 0\n",
        "\n",
        "\n",
        "def height(root):\n",
        "  if root == None:\n",
        "    return -1\n",
        "\n",
        "  return 1 + max(height(root.left), height(root.right))\n",
        "\n",
        "\n",
        "root = tree_construction([None, 1, 2, None, None, 3])\n",
        "print('Given Tree Inorder Traversal: ', end = ' ')\n",
        "inorder(root) #Given Tree Inorder Traversal:  2 3 1\n",
        "print()\n",
        "print(is_balance(root)) # this will return 0\n",
        "root1 = tree_construction([None, 10, 20, 30, 40, 60])\n",
        "print('Given Tree Inorder Traversal: ', end = ' ')\n",
        "inorder(root1) #Given Tree Inorder Traversal:  40 20 60 10 30\n",
        "print()\n",
        "print(is_balance(root1)) # this will return 1"
      ],
      "metadata": {
        "colab": {
          "base_uri": "https://localhost:8080/"
        },
        "id": "6Qg4e9rwWc8l",
        "outputId": "d5f59ecb-b57c-4d7e-adba-2850b08cbbd0"
      },
      "execution_count": null,
      "outputs": [
        {
          "output_type": "stream",
          "name": "stdout",
          "text": [
            "Given Tree Inorder Traversal:  2 3 1 \n",
            "0\n",
            "Given Tree Inorder Traversal:  40 20 60 10 30 \n",
            "1\n"
          ]
        }
      ]
    },
    {
      "cell_type": "code",
      "source": [
        "def is_complete(root):\n",
        "  totalnode = countNode(root)\n",
        "  return checkComplete(root, 0, totalnode)\n",
        "\n",
        "def checkComplete(root, idx, totalnode):\n",
        "  if root == None:\n",
        "    return True\n",
        "\n",
        "  if idx == 0:\n",
        "    return checkComplete(root, idx + 1, totalnode) and checkComplete(root, idx + 1, totalnode)\n",
        "\n",
        "  if idx >= totalnode:\n",
        "    return False\n",
        "\n",
        "  return checkComplete(root.left, idx * 2, totalnode) and checkComplete(root.right, idx * (2 + 1), totalnode)\n",
        "\n",
        "def countNode(root):\n",
        "  if root == None:\n",
        "    return 0\n",
        "\n",
        "\n",
        "  return 1 + countNode(root.left) + countNode(root.right)\n",
        "\n",
        "\n",
        "nums = [None, 70, 50, 40, 90, 20, 60, 20, None, None, 95, 99, 80, 85]\n",
        "root = tree_construction(nums)\n",
        "\n",
        "inorder(root)\n",
        "print()\n",
        "print(is_complete(root))"
      ],
      "metadata": {
        "colab": {
          "base_uri": "https://localhost:8080/"
        },
        "id": "KidL3sR7kmlR",
        "outputId": "994f15e2-1402-4a61-efba-5313b3e0ee77"
      },
      "execution_count": null,
      "outputs": [
        {
          "output_type": "stream",
          "name": "stdout",
          "text": [
            "90 50 95 20 99 70 80 60 85 40 20 \n",
            "False\n"
          ]
        }
      ]
    },
    {
      "cell_type": "code",
      "source": [
        "def ancestors(root, val):\n",
        "  if root == None:\n",
        "    return False\n",
        "\n",
        "  if root.elem == val:\n",
        "    return True\n",
        "\n",
        "  left = ancestors(root.left, val)\n",
        "  right = ancestors(root.right, val)\n",
        "  if left or right:\n",
        "    print(root.elem, end = \" \")\n",
        "    return True\n",
        "\n",
        "  return False\n",
        "\n",
        "\n",
        "\n",
        "root = tree_construction([None, 1, 2, 3, 4, 5, None, None, 7])\n",
        "inorder(root)\n",
        "print()\n",
        "ancestors(root, 7)"
      ],
      "metadata": {
        "colab": {
          "base_uri": "https://localhost:8080/"
        },
        "id": "zYwy4L5OmsGD",
        "outputId": "3b48e1a0-f9e3-4958-b58f-10ece7fc4291"
      },
      "execution_count": null,
      "outputs": [
        {
          "output_type": "stream",
          "name": "stdout",
          "text": [
            "7 4 2 5 1 3 \n",
            "4 2 1 "
          ]
        },
        {
          "output_type": "execute_result",
          "data": {
            "text/plain": [
              "True"
            ]
          },
          "metadata": {},
          "execution_count": 16
        }
      ]
    },
    {
      "cell_type": "code",
      "source": [
        "def ancestors(root, val):\n",
        "  return findancestor(root, val, [])\n",
        "\n",
        "def findancestor(root, val, ancestor):\n",
        "    if root is None:\n",
        "        return ancestor\n",
        "\n",
        "    if root.elem == val:\n",
        "        return ancestor\n",
        "\n",
        "    # Recur for the left and right subtree\n",
        "    left = findancestor(root.left, val, ancestor)\n",
        "    right = findancestor(root.right, val, ancestor)\n",
        "    if left or right:\n",
        "      ancestor.append(root.elem)\n",
        "      return ancestor\n",
        "\n",
        "    return ancestor\n",
        "\n",
        "\n",
        "root = tree_construction([None, 1, 2, 3, 4, 5, None, None, 7])\n",
        "print(\"Inorder Traversal :\", end = \" \")\n",
        "inorder(root) # Given Inorder Traversal : 7 4 2 5 1 3\n",
        "print()\n",
        "print(\"Ancestors are :\", end = \" \")\n",
        "ancestors(root, 7) # Output 4 2 1\n",
        "print()"
      ],
      "metadata": {
        "colab": {
          "base_uri": "https://localhost:8080/"
        },
        "id": "CeBF9GAV3Q8L",
        "outputId": "aa8439dc-fab3-4c19-d2b2-ff337633b925"
      },
      "execution_count": null,
      "outputs": [
        {
          "output_type": "stream",
          "name": "stdout",
          "text": [
            "Inorder Traversal : 7 4 2 5 1 3 \n",
            "Ancestors are : \n"
          ]
        }
      ]
    },
    {
      "cell_type": "code",
      "source": [
        "def OneChild(root):\n",
        "  if root == None:\n",
        "    return\n",
        "\n",
        "  if root.left == None and root.right == None:\n",
        "    OneChild(root.left)\n",
        "    OneChild(root.right)\n",
        "\n",
        "  elif root.left == None or root.right == None:\n",
        "    print(root.elem, end = \" \")\n",
        "\n",
        "\n",
        "  OneChild(root.left)\n",
        "  OneChild(root.right)\n",
        "\n",
        "\n",
        "root = tree_construction([None, 2, 3, 5, 7, None, 8, 6])\n",
        "print(\"Inorder Traversal :\" , end = \" \")\n",
        "inorder(root)  # Given Inorder Traversal : 7 3 2 8 5 6\n",
        "print()\n",
        "print(\"One Child Nodes are :\", end = \" \") #print 3\n",
        "OneChild(root)"
      ],
      "metadata": {
        "colab": {
          "base_uri": "https://localhost:8080/"
        },
        "id": "0Ivtoqj_ykbq",
        "outputId": "547d8d66-ec6e-4858-e58b-05ddec45e192"
      },
      "execution_count": null,
      "outputs": [
        {
          "output_type": "stream",
          "name": "stdout",
          "text": [
            "Inorder Traversal : 7 3 2 8 5 6 \n",
            "One Child Nodes are : 3 "
          ]
        }
      ]
    },
    {
      "cell_type": "code",
      "source": [
        "def skewed(root):\n",
        "  if root == None:\n",
        "    return \"Yes\"\n",
        "\n",
        "  if root.left != None and root.right != None:\n",
        "    return \"No\"\n",
        "\n",
        "  return skewed(root.left) and skewed(root.right)\n",
        "\n",
        "\n",
        "root = tree_construction([None, 5, 4, None, None, 3, None, None, None, None, 2])\n",
        "print(\"Inorder Traversal :\", end = \" \")\n",
        "inorder(root)  #Given Inorder Traversal : 4 2 3 5\n",
        "print()\n",
        "print(skewed(root)) # It will Return Yes"
      ],
      "metadata": {
        "colab": {
          "base_uri": "https://localhost:8080/"
        },
        "id": "r2BCr2bj01_V",
        "outputId": "c6b99597-16eb-42b0-ef35-8302df3c1a51"
      },
      "execution_count": null,
      "outputs": [
        {
          "output_type": "stream",
          "name": "stdout",
          "text": [
            "Inorder Traversal : 4 2 3 5 \n",
            "Yes\n"
          ]
        }
      ]
    },
    {
      "cell_type": "code",
      "source": [
        "def minDepth(root):\n",
        "  if root == None:\n",
        "    return 0\n",
        "\n",
        "\n",
        "  left = minDepth(root.left)\n",
        "  right = minDepth(root.right)\n",
        "\n",
        "  return 1 + min(left, right)\n",
        "\n",
        "\n",
        "root = tree_construction([None, 1, 2, 3, 4, 5, None, None, 7])\n",
        "print('Given Tree Inorder Traversal: ', end = ' ')\n",
        "inorder(root) #Given Tree Inorder Traversal:  7 4 2 5 1 3\n",
        "print()\n",
        "print(\"Mininum Depth Of the Tree is :\", minDepth(root)) # Output 2"
      ],
      "metadata": {
        "colab": {
          "base_uri": "https://localhost:8080/"
        },
        "id": "rR6VrpZz4XIy",
        "outputId": "8526a9ad-2750-44b3-cd14-358682734818"
      },
      "execution_count": null,
      "outputs": [
        {
          "output_type": "stream",
          "name": "stdout",
          "text": [
            "Given Tree Inorder Traversal:  7 4 2 5 1 3 \n",
            "Mininum Depth Of the Tree is : 2\n"
          ]
        }
      ]
    },
    {
      "cell_type": "code",
      "source": [
        "def fullNode(root):\n",
        "  if root == None:\n",
        "    return\n",
        "\n",
        "  if root.left != None and root.right != None:\n",
        "    print(root.elem, end = \" \")\n",
        "\n",
        "  fullNode(root.left)\n",
        "  fullNode(root.right)\n",
        "\n",
        "\n",
        "root = tree_construction([None, 10, 8, 2, 3, 5, 7])\n",
        "print('Given Tree Inorder Traversal: ', end = ' ')\n",
        "inorder(root) #Given Tree Inorder Traversal:  3 8 5 10 7 2\n",
        "print()\n",
        "print(\"Full Nodes are :\", end = \" \")\n",
        "fullNode(root)   # Output 10 8"
      ],
      "metadata": {
        "colab": {
          "base_uri": "https://localhost:8080/"
        },
        "id": "GSG8P_e7CzzU",
        "outputId": "03cff764-4584-4e72-ca84-94674ea4bd8d"
      },
      "execution_count": null,
      "outputs": [
        {
          "output_type": "stream",
          "name": "stdout",
          "text": [
            "Given Tree Inorder Traversal:  3 8 5 10 7 2 \n",
            "Full Nodes are : 10 8 "
          ]
        }
      ]
    },
    {
      "cell_type": "code",
      "source": [
        "def printPath(root, val):\n",
        "  return find_path(root, val, \"\")\n",
        "\n",
        "def find_path(root, val, path):\n",
        "  if root == None:\n",
        "    return \"\"\n",
        "\n",
        "  if path == \"\":\n",
        "    path = str(root.elem)\n",
        "\n",
        "  else:\n",
        "    path += \"->\" + str(root.elem)\n",
        "\n",
        "  if root.elem == val:\n",
        "    return path\n",
        "\n",
        "  return find_path(root.left, val, path) or find_path(root.right, val, path)\n",
        "\n",
        "\n",
        "root = tree_construction([None, 1, 2, 3, 4, 5, 6, 7])\n",
        "print('Given Tree Inorder Traversal: ', end = ' ')\n",
        "inorder(root) # Given Tree Inorder Traversal:  4 2 5 1 6 3 7\n",
        "print()\n",
        "print(\"The path is :\", printPath(root, 7)) # Output 1->2->5"
      ],
      "metadata": {
        "colab": {
          "base_uri": "https://localhost:8080/"
        },
        "id": "66wk_az9NKRa",
        "outputId": "1d39b349-8f0e-41a0-e014-58565b0153b5"
      },
      "execution_count": null,
      "outputs": [
        {
          "output_type": "stream",
          "name": "stdout",
          "text": [
            "Given Tree Inorder Traversal:  4 2 5 1 6 3 7 \n",
            "The path is : 1->3->7\n"
          ]
        }
      ]
    },
    {
      "cell_type": "code",
      "source": [
        "def Pathsum(root, val):\n",
        "  if root == None:\n",
        "    return False\n",
        "\n",
        "\n",
        "  val -= root.elem\n",
        "  if root.left == None and root.right == None:\n",
        "    if val == 0:\n",
        "      return True\n",
        "\n",
        "  return Pathsum(root.left, val) or Pathsum(root.right, val)\n",
        "\n",
        "\n",
        "root = tree_construction([None, 1, 2, 3, 4, 5, 6, 7])\n",
        "print('Given Tree Inorder Traversal: ', end = ' ')\n",
        "inorder(root) # Given Tree Inorder Traversal:  4 2 5 1 6 3 7\n",
        "print()\n",
        "print(\"The path is :\", Pathsum(root, 12)) # True"
      ],
      "metadata": {
        "colab": {
          "base_uri": "https://localhost:8080/"
        },
        "id": "l8kZHonscQlv",
        "outputId": "1acc2b82-5a48-41a3-890a-9ef1618984a3"
      },
      "execution_count": null,
      "outputs": [
        {
          "output_type": "stream",
          "name": "stdout",
          "text": [
            "Given Tree Inorder Traversal:  4 2 5 1 6 3 7 \n",
            "The path is : False\n"
          ]
        }
      ]
    },
    {
      "cell_type": "code",
      "source": [
        "def kDisPrint(root, k):\n",
        "  printlevel(root, 0, k)\n",
        "\n",
        "\n",
        "def printlevel(root, current, k):\n",
        "  if root == None:\n",
        "    return\n",
        "\n",
        "  if current == k:\n",
        "    print(root.elem, end = \" \")\n",
        "\n",
        "  printlevel(root.left, current + 1, k)\n",
        "  printlevel(root.right, current + 1, k)\n",
        "\n",
        "\n",
        "root = tree_construction([None, 1, 2, 3, 4, 5, 8])\n",
        "print('Given Tree Inorder Traversal: ', end = ' ')\n",
        "inorder(root) #Given Tree Inorder Traversal:  4 2 5 1 8 3\n",
        "print()\n",
        "print(\"Printing From k Distance is :\", end = \" \")\n",
        "kDisPrint(root, 2) # Output 4 5 8\n",
        "print()"
      ],
      "metadata": {
        "colab": {
          "base_uri": "https://localhost:8080/"
        },
        "id": "F6GLFK7nlvIE",
        "outputId": "560f62f5-1ffb-42fb-9179-c1b62b3d76de"
      },
      "execution_count": null,
      "outputs": [
        {
          "output_type": "stream",
          "name": "stdout",
          "text": [
            "Given Tree Inorder Traversal:  4 2 5 1 8 3 \n",
            "Printing From k Distance is : 4 5 8 \n"
          ]
        }
      ]
    },
    {
      "cell_type": "code",
      "source": [
        "def contain_duplicate(root):\n",
        "  x = duplicate(root, [])\n",
        "  return x\n",
        "\n",
        "\n",
        "def duplicate(root, val):\n",
        "  if root == None:\n",
        "    return False\n",
        "\n",
        "  if root.elem in val:\n",
        "    return True\n",
        "\n",
        "  val.append(root.elem)\n",
        "\n",
        "  # root.elem == None\n",
        "\n",
        "  left = duplicate(root.left, val)\n",
        "  right = duplicate(root.right, val)\n",
        "  root.elem = val\n",
        "\n",
        "  return left or right\n",
        "\n",
        "\n",
        "\n",
        "root = tree_construction([None, 1, 2, 3, None, None, None, 2])\n",
        "print('Given Tree Inorder Traversal: ', end = ' ')\n",
        "inorder(root) #Given Tree Inorder Traversal:  2 1 3 2\n",
        "print()\n",
        "print(contain_duplicate(root))"
      ],
      "metadata": {
        "colab": {
          "base_uri": "https://localhost:8080/"
        },
        "id": "wConCGRWcN-4",
        "outputId": "f217d0e7-8206-4006-b8d0-362b5696718a"
      },
      "execution_count": null,
      "outputs": [
        {
          "output_type": "stream",
          "name": "stdout",
          "text": [
            "Given Tree Inorder Traversal:  2 1 3 2 \n",
            "True\n"
          ]
        }
      ]
    },
    {
      "cell_type": "code",
      "source": [
        "def inorder_successor(root, x):\n",
        "  if x.right is not None:\n",
        "    return minVal(x.right)\n",
        "\n",
        "  succ = None\n",
        "  while root != None:\n",
        "    if x.elem < root.elem:\n",
        "      succ = root\n",
        "      root = root.left\n",
        "\n",
        "    elif x.elem > root.elem:\n",
        "      root = root.right\n",
        "\n",
        "    else:\n",
        "      break\n",
        "\n",
        "    return succ\n",
        "\n",
        "def minVal(root):\n",
        "  if root.left == None:\n",
        "    return root\n",
        "\n",
        "  leftmin = minVal(root.left)\n",
        "  rightmin = minVal(root.right)\n",
        "  if leftmin.elem < rightmin.elem:\n",
        "    return leftmin\n",
        "\n",
        "  else:\n",
        "    return rightmin\n",
        "\n",
        "#DRIVER CODE\n",
        "root = BTNode(20)\n",
        "n1 = BTNode(8)\n",
        "n2 = BTNode(22)\n",
        "n3 = BTNode(4)\n",
        "n4 = BTNode(12)\n",
        "n5 = BTNode(10)\n",
        "n6 = BTNode(14)\n",
        "\n",
        "root.left = n1\n",
        "root.right = n2\n",
        "\n",
        "n1.left = n3\n",
        "n1.right = n4\n",
        "\n",
        "n4.left = n5\n",
        "n4.right = n6\n",
        "\n",
        "print('Given Tree Inorder Traversal: ', end = ' ')\n",
        "inorder(root) #Given Tree Inorder Traversal:  4 8 10 12 14 20 22\n",
        "print()\n",
        "\n",
        "x = n1\n",
        "print(f'Inorder successor of node {x.elem}: {inorder_successor(root, x).elem}') #Inorder successor of node 8: 10"
      ],
      "metadata": {
        "colab": {
          "base_uri": "https://localhost:8080/"
        },
        "id": "BY76d9aEf3er",
        "outputId": "d91b7101-5fbc-4096-8d0e-efc50f3a56a6"
      },
      "execution_count": null,
      "outputs": [
        {
          "output_type": "stream",
          "name": "stdout",
          "text": [
            "Given Tree Inorder Traversal:  4 8 10 12 14 20 22 \n",
            "Inorder successor of node 8: 10\n"
          ]
        }
      ]
    },
    {
      "cell_type": "code",
      "source": [
        "def sumTree(root):\n",
        "  if root == None:\n",
        "    return True\n",
        "\n",
        "  if root.left == None and root.right == None:\n",
        "    return True\n",
        "\n",
        "\n",
        "  if calSum(root.left) + calSum(root.right) == root.elem:\n",
        "    return sumTree(root.left) and sumTree(root.right)\n",
        "\n",
        "  else:\n",
        "    return False\n",
        "\n",
        "\n",
        "\n",
        "def calSum(root):\n",
        "  if root == None:\n",
        "    return 0\n",
        "\n",
        "  return root.elem + calSum(root.left) + calSum(root.right)\n",
        "\n",
        "\n",
        "root = tree_construction([None, 26, 10, 3, 4, 6, None, 3])\n",
        "\n",
        "print('Given Tree Inorder Traversal: ', end = ' ')\n",
        "inorder(root) #Given Tree Inorder Traversal:  4 10 6 26 3 3\n",
        "print()\n",
        "print(sumTree(root))"
      ],
      "metadata": {
        "colab": {
          "base_uri": "https://localhost:8080/"
        },
        "id": "3GTi3EHLbN0_",
        "outputId": "213a7388-7c13-4dc3-fb40-0aa5f48212f6"
      },
      "execution_count": null,
      "outputs": [
        {
          "output_type": "stream",
          "name": "stdout",
          "text": [
            "Given Tree Inorder Traversal:  4 10 6 26 3 3 \n",
            "True\n"
          ]
        }
      ]
    },
    {
      "cell_type": "code",
      "source": [
        "def MoidifiedSum(root):\n",
        "  total = 0\n",
        "  for i in range(countLevel(root) + 1):\n",
        "    if i == 0:\n",
        "      total -= currentLevelSum(root, i)\n",
        "    elif i == 1:\n",
        "      total *= currentLevelSum(root, i)\n",
        "    else:\n",
        "      total += currentLevelSum(root, i)\n",
        "  return total\n",
        "\n",
        "\n",
        "def currentLevelSum(root, level):\n",
        "  if root == None:\n",
        "    return 0\n",
        "\n",
        "  if level == 0:\n",
        "    return root.elem\n",
        "\n",
        "  return currentLevelSum(root.left, level - 1) + currentLevelSum(root.right, level - 1)\n",
        "\n",
        "\n",
        "def countLevel(root):\n",
        "  if root == None:\n",
        "    return - 1\n",
        "\n",
        "  return 1 + max(countLevel(root.left), countLevel(root.right))\n",
        "\n",
        "\n",
        "root = tree_construction([None, 1, 2, 3, 4, 5, 6, 7])\n",
        "print('Given Tree Inorder Traversal: ', end = ' ')\n",
        "inorder(root) #Given Tree Inorder Traversal:  4 2 5 1 6 3 7\n",
        "print()\n",
        "print(\"Output:\", MoidifiedSum(root))"
      ],
      "metadata": {
        "id": "TzFDQBZ9mMM_",
        "colab": {
          "base_uri": "https://localhost:8080/"
        },
        "outputId": "755dcc6c-24a5-47cf-af01-e0d78be09927"
      },
      "execution_count": null,
      "outputs": [
        {
          "output_type": "stream",
          "name": "stdout",
          "text": [
            "Given Tree Inorder Traversal:  4 2 5 1 6 3 7 \n",
            "Output: 17\n"
          ]
        }
      ]
    },
    {
      "cell_type": "code",
      "source": [
        "def MoidifiedMultifly(root):\n",
        "  total = 0\n",
        "  right = 0\n",
        "  left = 0\n",
        "  for i in range(1, countLevel(root) + 1):\n",
        "    if i == 0:\n",
        "      continue\n",
        "\n",
        "    elif i %2 == 1:\n",
        "      left += currentLevel(root.left, i)\n",
        "      right += currentLevel(root.right, i)\n",
        "\n",
        "    else:\n",
        "      left += currentLevel(root.left, i) * (-root.elem)\n",
        "      right += currentLevel(root.right, i) * (-root.elem)\n",
        "\n",
        "  return left * right\n",
        "\n",
        "\n",
        "def currentLevel(root, level):\n",
        "  if root == None:\n",
        "    return 0\n",
        "\n",
        "  if level == 1:\n",
        "    return root.elem\n",
        "\n",
        "  return currentLevel(root.left, level - 1) + currentLevel(root.right, level - 1)\n",
        "\n",
        "\n",
        "def countLevel(root):\n",
        "  if root == None:\n",
        "    return - 1\n",
        "\n",
        "  return 1 + max(countLevel(root.left), countLevel(root.right))\n",
        "\n",
        "\n",
        "root = tree_construction([None, 1, 2, 3, 4, 5, 6, 7])\n",
        "\n",
        "print('Given Tree Inorder Traversal: ', end = ' ')\n",
        "inorder(root) #Given Tree Inorder Traversal:  4 2 5 1 6 3 7\n",
        "print()\n",
        "print(MoidifiedMultifly(root))"
      ],
      "metadata": {
        "colab": {
          "base_uri": "https://localhost:8080/"
        },
        "id": "joSBvN3gsGHU",
        "outputId": "2cbb8b23-0f59-4d60-f228-d65fb0aab0ba"
      },
      "execution_count": null,
      "outputs": [
        {
          "output_type": "stream",
          "name": "stdout",
          "text": [
            "Given Tree Inorder Traversal:  4 2 5 1 6 3 7 \n",
            "70\n"
          ]
        }
      ]
    },
    {
      "cell_type": "code",
      "source": [
        "def MultiSum(root):\n",
        "  level = height(root)\n",
        "  left = 0\n",
        "  right = 0\n",
        "  for i in range(1, level + 1):\n",
        "    if i %2 == 1:\n",
        "      left += currentLevel(root.left, i)\n",
        "      right += currentLevel(root.right, i)\n",
        "\n",
        "    else:\n",
        "      left += currentLevel(root.left, i) * (-root.elem)\n",
        "      right += currentLevel(root.right, i) * (-root.elem)\n",
        "\n",
        "  return left * right\n",
        "\n",
        "\n",
        "def currentLevel(root, level):\n",
        "  if root == None:\n",
        "    return 0\n",
        "\n",
        "  if level == 1:\n",
        "    return root.elem\n",
        "\n",
        "  return currentLevel(root.left, level - 1) + currentLevel(root.right, level - 1)\n",
        "\n",
        "\n",
        "def height(root):\n",
        "  if root == None:\n",
        "    return -1\n",
        "\n",
        "  left = 1 + height(root.left)\n",
        "  right = 1 + height(root.right)\n",
        "\n",
        "  return max(left, right)\n",
        "\n",
        "\n",
        "root = tree_construction([None, 1, 2, 3, 4, 5, 6, 7])\n",
        "print('Given Tree Inorder Traversal: ', end = ' ')\n",
        "inorder(root) #Given Tree Inorder Traversal:  4 2 5 1 6 3 7\n",
        "print()\n",
        "print(MultiSum(root))"
      ],
      "metadata": {
        "colab": {
          "base_uri": "https://localhost:8080/"
        },
        "id": "k-ctdZ2nXGli",
        "outputId": "61c456c9-c4f9-4f84-a16e-1a7ec2c05b45"
      },
      "execution_count": null,
      "outputs": [
        {
          "output_type": "stream",
          "name": "stdout",
          "text": [
            "Given Tree Inorder Traversal:  4 2 5 1 6 3 7 \n",
            "70\n"
          ]
        }
      ]
    }
  ],
  "metadata": {
    "colab": {
      "provenance": [],
      "include_colab_link": true
    },
    "kernelspec": {
      "display_name": "Python 3",
      "name": "python3"
    },
    "language_info": {
      "name": "python"
    }
  },
  "nbformat": 4,
  "nbformat_minor": 0
}