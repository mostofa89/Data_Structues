{
  "nbformat": 4,
  "nbformat_minor": 0,
  "metadata": {
    "colab": {
      "provenance": [],
      "include_colab_link": true
    },
    "kernelspec": {
      "name": "python3",
      "display_name": "Python 3"
    },
    "language_info": {
      "name": "python"
    }
  },
  "cells": [
    {
      "cell_type": "markdown",
      "metadata": {
        "id": "view-in-github",
        "colab_type": "text"
      },
      "source": [
        "<a href=\"https://colab.research.google.com/github/mostofa89/Data_Structues/blob/main/Doubly_LinkedList_and_Stack.ipynb\" target=\"_parent\"><img src=\"https://colab.research.google.com/assets/colab-badge.svg\" alt=\"Open In Colab\"/></a>"
      ]
    },
    {
      "cell_type": "code",
      "execution_count": 1,
      "metadata": {
        "id": "Pp1R95Pe7ID2",
        "outputId": "7eee0716-e991-4ea6-a97d-612d9fb1b888",
        "colab": {
          "base_uri": "https://localhost:8080/"
        }
      },
      "outputs": [
        {
          "output_type": "stream",
          "name": "stdout",
          "text": [
            "Collecting fhm-unittest\n",
            "  Downloading fhm_unittest-1.0.1-py3-none-any.whl.metadata (1.9 kB)\n",
            "Downloading fhm_unittest-1.0.1-py3-none-any.whl (2.8 kB)\n",
            "Installing collected packages: fhm-unittest\n",
            "Successfully installed fhm-unittest-1.0.1\n",
            "Collecting fuzzywuzzy\n",
            "  Downloading fuzzywuzzy-0.18.0-py2.py3-none-any.whl.metadata (4.9 kB)\n",
            "Downloading fuzzywuzzy-0.18.0-py2.py3-none-any.whl (18 kB)\n",
            "Installing collected packages: fuzzywuzzy\n",
            "Successfully installed fuzzywuzzy-0.18.0\n"
          ]
        },
        {
          "output_type": "stream",
          "name": "stderr",
          "text": [
            "/usr/local/lib/python3.11/dist-packages/fuzzywuzzy/fuzz.py:11: UserWarning: Using slow pure-python SequenceMatcher. Install python-Levenshtein to remove this warning\n",
            "  warnings.warn('Using slow pure-python SequenceMatcher. Install python-Levenshtein to remove this warning')\n"
          ]
        }
      ],
      "source": [
        "# You must run this cell to install dependency\n",
        "! pip3 install fhm-unittest\n",
        "! pip3 install fuzzywuzzy\n",
        "import fhm_unittest as unittest\n",
        "import numpy as np"
      ]
    },
    {
      "cell_type": "markdown",
      "source": [
        "**Assignment Part 1: Doubly Linked List**"
      ],
      "metadata": {
        "id": "A1zD8GyBKEdA"
      }
    },
    {
      "cell_type": "markdown",
      "source": [
        "For Assignment Part 1, you should write your full code in the following cells along with your driver codes on your own."
      ],
      "metadata": {
        "id": "z4q4a-vSNoII"
      }
    },
    {
      "cell_type": "code",
      "source": [
        "#Assignment Part 1\n",
        "class Patient:\n",
        "  def __init__(self, Id, name, age, bloodgroup, next, prev):\n",
        "    self.id = Id\n",
        "    self.name = name\n",
        "    self.age = age\n",
        "    self.bloodgroup = bloodgroup"
      ],
      "metadata": {
        "id": "itoWpG7oNziA"
      },
      "execution_count": 2,
      "outputs": []
    },
    {
      "cell_type": "code",
      "source": [
        "class WRM:\n",
        "\n",
        "  def __init__(self):\n",
        "    self.head = Patient(None, None, None, None, None, None)\n",
        "    self.head.next = self.head\n",
        "    self.prev = self.head\n",
        "    self.tail = self.head\n",
        "\n",
        "  def registerPatient(self, id, name, age, bloodgroup):\n",
        "    new_patient = Patient(id, name, age, bloodgroup, None, None)\n",
        "    new_patient.next = self.head\n",
        "    new_patient.prev = self.tail\n",
        "    self.tail.next = new_patient\n",
        "    self.tail.prev = new_patient\n",
        "    self.tail = new_patient\n",
        "\n",
        "    return f\"\"\"Wellcome! Mr. {name}, your registration has been done Successfully.\"\"\"\n",
        "\n",
        "\n",
        "  def servePatient(self):\n",
        "    served = self.head.next\n",
        "    next_patient = served.next\n",
        "    self.head.next = next_patient\n",
        "    next_patient.prev = self.head\n",
        "    return f\"{served.name} has been Served. ThankYou!\"\n",
        "\n",
        "  def isEmpty(self):\n",
        "    if self.head.next == self.head:\n",
        "      return True\n",
        "\n",
        "    else:\n",
        "      return False\n",
        "\n",
        "\n",
        "  def showAllPatient(self):\n",
        "    if  self.isEmpty() == True:\n",
        "      print(\"The Waiting room is empty.\")\n",
        "    else:\n",
        "      node = self.head.next\n",
        "      while node != self.head:\n",
        "        print(node.id)\n",
        "        node = node.next\n",
        "\n",
        "  def canDoctorGoHome(self):\n",
        "    if self.isEmpty() == True:\n",
        "      return \"Yes\"\n",
        "\n",
        "    else:\n",
        "      return \"No\"\n",
        "\n",
        "  def cancelAll(self):\n",
        "    if self.isEmpty() == False:\n",
        "      self.head.next = self.head\n",
        "      self.head.prev = self.head\n",
        "\n",
        "  def ReverseTheLine(self):\n",
        "    if self.isEmpty() == True:\n",
        "      return \"The waiting room is empty!\"\n",
        "\n",
        "    elif self.head.next == self.head or self.head.next.next ==self.head:\n",
        "      return self.head\n",
        "\n",
        "    end_node = self.head.next\n",
        "    prev_node = self.head.next\n",
        "    current_node = self.head.next.next\n",
        "    while current_node != self.head:\n",
        "      next_node = current_node.next\n",
        "      backword_node = current_node.prev\n",
        "\n",
        "      backword_node.prev = current_node\n",
        "      current_node.next = prev_node\n",
        "\n",
        "      prev_node = current_node\n",
        "      current_node = next_node\n",
        "\n",
        "    self.head.next = self.head\n",
        "    self.head.prev = self.head\n",
        "\n",
        "    self.head.next = prev_node\n",
        "    self.head.prev = end_node\n",
        "    end_node.next = self.head\n",
        "    return self.head\n"
      ],
      "metadata": {
        "id": "dNx7zTJ1OZNv"
      },
      "execution_count": 3,
      "outputs": []
    },
    {
      "cell_type": "code",
      "source": [
        "#Write a Tester Code in this cell\n",
        "print(\"-------------------Waitingroom Info-------------------\")\n",
        "p1 = WRM()\n",
        "print(p1.registerPatient(101, \"Mostofa Kamal\", 21, \"O+\"))\n",
        "print(p1.registerPatient(102, \"GM Abir\", 21, \"A+\"))\n",
        "print(p1.registerPatient(103, \"Golam Sarwar Asif\", 21, \"AB+\"))\n",
        "print(p1.registerPatient(104, \"Byazid Bostami\", 25, \"O+\"))\n",
        "print(\"-----------------------------------------------------\")\n",
        "print(p1.servePatient())\n",
        "print(\"-----------------------------------------------------\")\n",
        "p1.showAllPatient()\n",
        "print(\"-----------------------------------------------------\")\n",
        "print(p1.canDoctorGoHome())\n",
        "p1.showAllPatient()\n",
        "print(\"-----------------------------------------------------\")\n",
        "reverse = p1.ReverseTheLine()\n",
        "p1.showAllPatient()\n",
        "p1.cancelAll()"
      ],
      "metadata": {
        "id": "jKhbn1LAPfjr",
        "colab": {
          "base_uri": "https://localhost:8080/"
        },
        "outputId": "c17c6843-2fc1-403d-c1ab-fc686d767d6e"
      },
      "execution_count": 4,
      "outputs": [
        {
          "output_type": "stream",
          "name": "stdout",
          "text": [
            "-------------------Waitingroom Info-------------------\n",
            "Wellcome! Mr. Mostofa Kamal, your registration has been done Successfully.\n",
            "Wellcome! Mr. GM Abir, your registration has been done Successfully.\n",
            "Wellcome! Mr. Golam Sarwar Asif, your registration has been done Successfully.\n",
            "Wellcome! Mr. Byazid Bostami, your registration has been done Successfully.\n",
            "-----------------------------------------------------\n",
            "Mostofa Kamal has been Served. ThankYou!\n",
            "-----------------------------------------------------\n",
            "102\n",
            "103\n",
            "104\n",
            "-----------------------------------------------------\n",
            "No\n",
            "102\n",
            "103\n",
            "104\n",
            "-----------------------------------------------------\n",
            "104\n",
            "103\n",
            "102\n"
          ]
        }
      ]
    },
    {
      "cell_type": "markdown",
      "source": [
        "**Assignment Part 2: Stack**\n",
        "\n",
        "Linked List based Stack is implemented in the following cell."
      ],
      "metadata": {
        "id": "CJWd_j6YEnPn"
      }
    },
    {
      "cell_type": "code",
      "source": [
        "class Node:\n",
        "  def __init__(self,elem=None,next=None):\n",
        "    self.elem = elem\n",
        "    self.next = next\n",
        "\n",
        "class Stack:\n",
        "  def __init__(self):\n",
        "    self.__top = None\n",
        "\n",
        "  def push(self,elem):\n",
        "    nn = Node(elem,self.__top)\n",
        "    self.__top = nn\n",
        "\n",
        "  def pop(self):\n",
        "    if self.__top == None:\n",
        "      #print('Stack Underflow')\n",
        "      return None\n",
        "    e = self.__top\n",
        "    self.__top = self.__top.next\n",
        "    return e.elem\n",
        "\n",
        "  def peek(self):\n",
        "    if self.__top == None:\n",
        "      #print('Stack Underflow')\n",
        "      return None\n",
        "    return self.__top.elem\n",
        "\n",
        "  def isEmpty(self):\n",
        "    return self.__top == None\n"
      ],
      "metadata": {
        "id": "KHLhs5x0D-O6"
      },
      "execution_count": 5,
      "outputs": []
    },
    {
      "cell_type": "code",
      "source": [
        "#You can run this driver code cell to understand the methods of Stack class\n",
        "st = Stack()\n",
        "st.push(4)\n",
        "st.push(3)\n",
        "st.push(5)\n",
        "st.push(1)\n",
        "st.push(9)\n",
        "\n",
        "print('Peeked Element: ',st.peek())\n",
        "print('Popped Element: ',st.pop())\n",
        "print('Popped Element: ',st.pop())\n",
        "print('Popped Element: ',st.pop())\n",
        "print('Peeked Element: ',st.peek())\n",
        "print('Popped Element: ',st.pop())\n",
        "print('Popped Element: ',st.pop())\n",
        "print('Peeked Element: ',st.peek())\n",
        "print('Popped Element: ',st.pop())\n",
        "print(st.isEmpty())"
      ],
      "metadata": {
        "id": "4XkuMA7gEjE7",
        "colab": {
          "base_uri": "https://localhost:8080/"
        },
        "outputId": "8ba6c387-495d-48ac-ee3b-7a15791b2440"
      },
      "execution_count": 6,
      "outputs": [
        {
          "output_type": "stream",
          "name": "stdout",
          "text": [
            "Peeked Element:  9\n",
            "Popped Element:  9\n",
            "Popped Element:  1\n",
            "Popped Element:  5\n",
            "Peeked Element:  3\n",
            "Popped Element:  3\n",
            "Popped Element:  4\n",
            "Peeked Element:  None\n",
            "Popped Element:  None\n",
            "True\n"
          ]
        }
      ]
    },
    {
      "cell_type": "markdown",
      "source": [
        "You can print your stack using this code segment"
      ],
      "metadata": {
        "id": "xrfONLccG9Gi"
      }
    },
    {
      "cell_type": "code",
      "source": [
        "def print_stack(st):\n",
        "  if st.isEmpty():\n",
        "    return\n",
        "  p = st.pop()\n",
        "  print('|',p,end=' ')\n",
        "  if p<10:\n",
        "    print(' |')\n",
        "  else:\n",
        "    print('|')\n",
        "  #print('------')\n",
        "  print_stack(st)\n",
        "  st.push(p)\n",
        "\n",
        "# st = Stack()\n",
        "# st.push(4)\n",
        "# st.push(3)\n",
        "# st.push(5)\n",
        "# st.push(1)\n",
        "# st.push(9)\n",
        "# print_stack(st)\n",
        "# print('------')"
      ],
      "metadata": {
        "id": "S-EembO_GsWA"
      },
      "execution_count": 7,
      "outputs": []
    },
    {
      "cell_type": "markdown",
      "source": [
        "Task 1: Diamond Count"
      ],
      "metadata": {
        "id": "iNMnfqqpIga2"
      }
    },
    {
      "cell_type": "code",
      "source": [
        "def diamond_count(stack,string):\n",
        "  #TO DO\n",
        "  counter = 0\n",
        "  for ch in string:\n",
        "    if ch == \"<\":\n",
        "      stack.push(ch)\n",
        "\n",
        "    elif ch == \">\":\n",
        "      if stack.isEmpty() == True:\n",
        "        continue\n",
        "\n",
        "      stack.pop()\n",
        "      counter += 1\n",
        "\n",
        "  return counter\n",
        "\n",
        "\n",
        "print('Test 01')\n",
        "stack = Stack()\n",
        "string = '<..><.<..>> '\n",
        "returned_value = diamond_count(stack,string)\n",
        "print(f'Number of Diamonds: {returned_value}') #This should print 3\n",
        "unittest.output_test(returned_value, 3)\n",
        "print('-----------------------------------------')\n",
        "\n",
        "\n",
        "print('Test 02')\n",
        "stack = Stack()\n",
        "string = '<<<..<......<<<<....>'\n",
        "returned_value = diamond_count(stack,string)\n",
        "print(f'Number of Diamonds: {returned_value}') #This should print 1\n",
        "unittest.output_test(returned_value, 1)\n",
        "print('-----------------------------------------')\n",
        "\n",
        "\n",
        "print('Test 03')\n",
        "stack = Stack()\n",
        "string = '>>><...<<..>>...>...>>>'\n",
        "returned_value = diamond_count(stack,string)\n",
        "print(f'Number of Diamonds: {returned_value}') #This should print 3\n",
        "unittest.output_test(returned_value, 3)\n",
        "print('-----------------------------------------')"
      ],
      "metadata": {
        "id": "GnX70OIvG_gZ",
        "colab": {
          "base_uri": "https://localhost:8080/"
        },
        "outputId": "bba28a0b-dfca-4dc0-edf8-eb694423660a"
      },
      "execution_count": 8,
      "outputs": [
        {
          "output_type": "stream",
          "name": "stdout",
          "text": [
            "Test 01\n",
            "Number of Diamonds: 3\n",
            "Accepted\n",
            "-----------------------------------------\n",
            "Test 02\n",
            "Number of Diamonds: 1\n",
            "Accepted\n",
            "-----------------------------------------\n",
            "Test 03\n",
            "Number of Diamonds: 3\n",
            "Accepted\n",
            "-----------------------------------------\n"
          ]
        }
      ]
    },
    {
      "cell_type": "markdown",
      "source": [
        "Task 2: Tower of Blocks"
      ],
      "metadata": {
        "id": "PhCF3SZ6IX5g"
      }
    },
    {
      "cell_type": "code",
      "source": [
        "def remove_block(stack, n):\n",
        "  #TO DO\n",
        "  new_stack = Stack()\n",
        "  counter = 0\n",
        "  while stack.isEmpty() != True:\n",
        "    if counter == n - 1:\n",
        "      break\n",
        "    else:\n",
        "      new_stack.push(stack.pop())\n",
        "      counter += 1\n",
        "\n",
        "  stack.pop()\n",
        "\n",
        "  while new_stack.isEmpty() != True:\n",
        "    stack.push(new_stack.pop())\n",
        "\n",
        "\n",
        "\n",
        "\n",
        "\n",
        "print('Test 01')\n",
        "st = Stack()\n",
        "st.push(4)\n",
        "st.push(19)\n",
        "st.push(23)\n",
        "st.push(17)\n",
        "st.push(5)\n",
        "print('Stack:')\n",
        "print_stack(st)\n",
        "print('------')\n",
        "remove_block(st,2)\n",
        "print('After Removal')\n",
        "print_stack(st)\n",
        "print('------')\n",
        "\n",
        "print()\n",
        "print('======================================')\n",
        "print()\n",
        "\n",
        "print('Test 02')\n",
        "st = Stack()\n",
        "st.push(73)\n",
        "st.push(85)\n",
        "st.push(15)\n",
        "st.push(41)\n",
        "print('Stack:')\n",
        "print_stack(st)\n",
        "print('------')\n",
        "remove_block(st,3)\n",
        "print('After Removal')\n",
        "print_stack(st)\n",
        "print('------')\n",
        "\n",
        "print()\n",
        "print('======================================')\n",
        "print()"
      ],
      "metadata": {
        "id": "W3N4q7YAHExr",
        "colab": {
          "base_uri": "https://localhost:8080/"
        },
        "outputId": "8cb9c301-272e-4f4a-ad7d-24d251179d1a"
      },
      "execution_count": 9,
      "outputs": [
        {
          "output_type": "stream",
          "name": "stdout",
          "text": [
            "Test 01\n",
            "Stack:\n",
            "| 5  |\n",
            "| 17 |\n",
            "| 23 |\n",
            "| 19 |\n",
            "| 4  |\n",
            "------\n",
            "After Removal\n",
            "| 5  |\n",
            "| 23 |\n",
            "| 19 |\n",
            "| 4  |\n",
            "------\n",
            "\n",
            "======================================\n",
            "\n",
            "Test 02\n",
            "Stack:\n",
            "| 41 |\n",
            "| 15 |\n",
            "| 85 |\n",
            "| 73 |\n",
            "------\n",
            "After Removal\n",
            "| 41 |\n",
            "| 15 |\n",
            "| 73 |\n",
            "------\n",
            "\n",
            "======================================\n",
            "\n"
          ]
        }
      ]
    },
    {
      "cell_type": "markdown",
      "source": [
        "Task 3: Stack Reverse"
      ],
      "metadata": {
        "id": "jcngRuqUWOfl"
      }
    },
    {
      "cell_type": "code",
      "source": [
        "def conditional_reverse(stack):\n",
        "  #To Do\n",
        "  new_stack = Stack()\n",
        "  while stack.isEmpty() != True:\n",
        "    removed = stack.pop()\n",
        "\n",
        "    if removed == new_stack.peek():\n",
        "      continue\n",
        "\n",
        "    new_stack.push(removed)\n",
        "\n",
        "  return new_stack\n",
        "\n",
        "\n",
        "print('Test 01')\n",
        "st=Stack()\n",
        "st.push(10)\n",
        "st.push(10)\n",
        "st.push(20)\n",
        "st.push(20)\n",
        "st.push(30)\n",
        "st.push(10)\n",
        "st.push(50)\n",
        "print('Stack:')\n",
        "print_stack(st)\n",
        "print('------')\n",
        "reversed_stack=conditional_reverse(st)\n",
        "print('Conditional Reversed Stack:')\n",
        "print_stack(reversed_stack) # This stack contains 50, 10, 30, 20, 10 in this order whereas top element should be 10\n",
        "print('------')"
      ],
      "metadata": {
        "id": "gLSgfDKPWPnP",
        "colab": {
          "base_uri": "https://localhost:8080/"
        },
        "outputId": "eeb23ec9-9d93-4296-905f-b08474d80770"
      },
      "execution_count": 10,
      "outputs": [
        {
          "output_type": "stream",
          "name": "stdout",
          "text": [
            "Test 01\n",
            "Stack:\n",
            "| 50 |\n",
            "| 10 |\n",
            "| 30 |\n",
            "| 20 |\n",
            "| 20 |\n",
            "| 10 |\n",
            "| 10 |\n",
            "------\n",
            "Conditional Reversed Stack:\n",
            "| 10 |\n",
            "| 20 |\n",
            "| 30 |\n",
            "| 10 |\n",
            "| 50 |\n",
            "------\n"
          ]
        }
      ]
    }
  ]
}