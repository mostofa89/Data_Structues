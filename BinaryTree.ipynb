{
  "nbformat": 4,
  "nbformat_minor": 0,
  "metadata": {
    "colab": {
      "private_outputs": true,
      "provenance": [],
      "authorship_tag": "ABX9TyP05X48Gg/mQuJcKBMpMW3T",
      "include_colab_link": true
    },
    "kernelspec": {
      "name": "python3",
      "display_name": "Python 3"
    },
    "language_info": {
      "name": "python"
    }
  },
  "cells": [
    {
      "cell_type": "markdown",
      "metadata": {
        "id": "view-in-github",
        "colab_type": "text"
      },
      "source": [
        "<a href=\"https://colab.research.google.com/github/mostofa89/Data_Structues/blob/main/BinaryTree.ipynb\" target=\"_parent\"><img src=\"https://colab.research.google.com/assets/colab-badge.svg\" alt=\"Open In Colab\"/></a>"
      ]
    },
    {
      "cell_type": "code",
      "execution_count": null,
      "metadata": {
        "id": "tmB52KiQO7Rp"
      },
      "outputs": [],
      "source": [
        "class Node:\n",
        "  def __init__(self, data = None):\n",
        "    self.data = data\n",
        "    self.left = None\n",
        "    self.right = None"
      ]
    },
    {
      "cell_type": "code",
      "source": [
        "def tree_construction(arr, i = 1):\n",
        "  if i >= len(arr) or arr[i] == None:\n",
        "    return None\n",
        "  parents = Node(arr[i])\n",
        "  parents.left = tree_construction(arr, 2*i)\n",
        "  parents.right = tree_construction(arr, 2*i+1)\n",
        "\n",
        "  return parents\n"
      ],
      "metadata": {
        "id": "VE6FX22EId-m"
      },
      "execution_count": null,
      "outputs": []
    },
    {
      "cell_type": "code",
      "source": [
        "def inorder_traversal(root):\n",
        "  if root != None:\n",
        "    inorder_traversal(root.left)\n",
        "    print(root.data, end = \" \")\n",
        "    inorder_traversal(root.right)\n"
      ],
      "metadata": {
        "id": "pqq5OxWsJDrN"
      },
      "execution_count": null,
      "outputs": []
    },
    {
      "cell_type": "code",
      "source": [
        "def preorder_traversal(root):\n",
        "  if root != None:\n",
        "    print(root.data, end = \" \")\n",
        "    preorder_traversal(root.left)\n",
        "    preorder_traversal(root.right)"
      ],
      "metadata": {
        "id": "y5RqVqGVK9TU"
      },
      "execution_count": null,
      "outputs": []
    },
    {
      "cell_type": "code",
      "source": [
        "def postorder_traversal(root):\n",
        "  if root != None:\n",
        "    postorder_traversal(root.left)\n",
        "    postorder_traversal(root.right)\n",
        "    print(root.data, end = \" \")"
      ],
      "metadata": {
        "id": "vLPd2pgXLKUx"
      },
      "execution_count": null,
      "outputs": []
    },
    {
      "cell_type": "code",
      "source": [
        "def countNodes(root):\n",
        "  if root == None:\n",
        "    return 0\n",
        "\n",
        "  return 1 + countNodes(root.left) + countNodes(root.right)"
      ],
      "metadata": {
        "id": "06DvjDxuEDtq"
      },
      "execution_count": null,
      "outputs": []
    },
    {
      "cell_type": "code",
      "source": [
        "def sumofNodes(root):\n",
        "  if root == None:\n",
        "    return 0\n",
        "\n",
        "  return root.data + sumofNodes(root.left)  + sumofNodes(root.right)"
      ],
      "metadata": {
        "id": "YaPwYr3Smxe1"
      },
      "execution_count": null,
      "outputs": []
    },
    {
      "cell_type": "code",
      "source": [
        "def height(root):\n",
        "  if root is None:\n",
        "    return - 1\n",
        "\n",
        "  leftHeight = height(root.left)\n",
        "  rightHeight = height(root.right)\n",
        "  max_height = leftHeight\n",
        "\n",
        "  if rightHeight > max_height:\n",
        "    max_height = rightHeight\n",
        "\n",
        "  return max_height + 1"
      ],
      "metadata": {
        "id": "9cb0RttMMGFT"
      },
      "execution_count": null,
      "outputs": []
    },
    {
      "cell_type": "code",
      "source": [
        "def printLevelOrder(root):\n",
        "\n",
        "    if root is None:\n",
        "        return\n",
        "\n",
        "    queue = []\n",
        "    queue.append(root)\n",
        "    ans = []\n",
        "\n",
        "    while(len(queue) > 0):\n",
        "      level = []\n",
        "      for i in range(len(queue)):\n",
        "        print(queue[0].data, end = \" \")\n",
        "        level.append(queue[0].data)\n",
        "        node = queue.pop(0)\n",
        "        if node.left != None:\n",
        "          queue.append(node.left)\n",
        "\n",
        "        if node.right != None:\n",
        "          queue.append(node.right)\n",
        "      ans.append(level)\n",
        "\n",
        "    return ans\n"
      ],
      "metadata": {
        "id": "aCBoMw5jCRHq"
      },
      "execution_count": null,
      "outputs": []
    },
    {
      "cell_type": "code",
      "source": [
        "def are_identical(root1, root2):\n",
        "  if root1 == None and root2 == None:\n",
        "    return True\n",
        "\n",
        "  if root1 == None or root2 == None:\n",
        "    return False\n",
        "\n",
        "  if root1.data != root2.data:\n",
        "    return False\n",
        "\n",
        "  return are_identical(root1.left, root2.left) and are_identical(root1.right, root2.right)"
      ],
      "metadata": {
        "id": "aIrB9WrJFFN6"
      },
      "execution_count": null,
      "outputs": []
    },
    {
      "cell_type": "code",
      "source": [
        "def is_subtree(root1, root2):\n",
        "  if root2 == None:\n",
        "    return True\n",
        "\n",
        "  if root1 == None:\n",
        "    return False\n",
        "\n",
        "  if are_identical(root1, root2) == True:\n",
        "    return True\n",
        "\n",
        "\n",
        "\n",
        "  return are_identical(root1.left, root2) or are_identical(root1.right, root2)\n"
      ],
      "metadata": {
        "id": "i_-F1jvOFDkO"
      },
      "execution_count": null,
      "outputs": []
    },
    {
      "cell_type": "code",
      "source": [
        "def diameter(root):\n",
        "    diameter1 = [0]\n",
        "\n",
        "    def height(node):\n",
        "      if node is None:\n",
        "        return 0\n",
        "\n",
        "      left_height = height(node.left)\n",
        "      right_height = height(node.right)\n",
        "\n",
        "        # Update the diameter with the sum of heights of left and right subtrees\n",
        "      diameter1[0] = max(diameter1[0], left_height + right_height)\n",
        "\n",
        "        # Return the height of the tree rooted at this node\n",
        "      return 1 + max(left_height, right_height)\n",
        "\n",
        "    height(root)\n",
        "    return diameter1[0]"
      ],
      "metadata": {
        "id": "lZqhFPC-GmA_"
      },
      "execution_count": null,
      "outputs": []
    },
    {
      "cell_type": "code",
      "source": [
        "root = tree_construction([None, 5, 3, 7, 2, 4, 6, 8])\n",
        "print(\"InOrder Traversing :\")\n",
        "inorder_traversal(root)\n",
        "print(\"\\nPreOrder Traversing : \")\n",
        "preorder_traversal(root)\n",
        "print(\"\\nPostOrder Traversing : \")\n",
        "postorder_traversal(root)\n",
        "print(\"\\nNumber of Node is : \")\n",
        "print(countNodes(root))\n",
        "print(\"Sum of the Tree :\", end =\" \")\n",
        "print(sumofNodes(root))\n",
        "print(\"Max Height of the Tree :\", end =\" \")\n",
        "print(height(root))\n",
        "print(\"Diameter of the Tree :\", end =\" \")\n",
        "print(diameter(root))\n",
        "root1 = tree_construction([None, 3, 1, 4 ])\n",
        "print(\"InOrder Traversing :\")\n",
        "inorder_traversal(root1)\n",
        "print()\n",
        "print(\"LevelOrder Traversing :\")\n",
        "print(printLevelOrder(root))\n",
        "print()\n",
        "print(is_subtree(root, root1))"
      ],
      "metadata": {
        "id": "WAmOvkJkIlf8"
      },
      "execution_count": null,
      "outputs": []
    }
  ]
}